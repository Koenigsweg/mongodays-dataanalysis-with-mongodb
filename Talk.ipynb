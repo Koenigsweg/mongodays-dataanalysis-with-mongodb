{
 "cells": [
  {
   "cell_type": "markdown",
   "metadata": {},
   "source": [
    "# Data Analysis and Map-Reduce with MongoDB and pymongo"
   ]
  },
  {
   "cell_type": "markdown",
   "metadata": {},
   "source": [
    "Alexander Hendorf (@opotoc), MongoDB Days Germany 2015 Munich, MongoDB Days 2015 Silicon Valley San José, PySS15 Ibaeta University San Sebastián, EuroPython 2015 Bilbao"
   ]
  },
  {
   "cell_type": "markdown",
   "metadata": {},
   "source": [
    "The dataset only contains the data for the two artists (207 playlists)"
   ]
  },
  {
   "cell_type": "code",
   "execution_count": 1,
   "metadata": {
    "collapsed": true
   },
   "outputs": [],
   "source": [
    "from IPython.display import HTML, Audio\n",
    "from IPython.display import Image\n",
    "import pymongo\n",
    "import datetime\n",
    "from pymongo import ASCENDING, DESCENDING\n",
    "from bson.son import SON\n",
    "from pprint import pprint\n",
    "import json\n",
    "from config import *"
   ]
  },
  {
   "cell_type": "markdown",
   "metadata": {},
   "source": [
    "import pymongo driver, bson, json, some config parameters (e.g. database access) & \n",
    "make database connection"
   ]
  },
  {
   "cell_type": "code",
   "execution_count": 2,
   "metadata": {
    "collapsed": true
   },
   "outputs": [],
   "source": [
    "# make sure the database is running (start.sh)!\n",
    "db = pymongo.MongoClient(\"localhost:27017\")['db']\n",
    "playlists = 'playlists'"
   ]
  },
  {
   "cell_type": "markdown",
   "metadata": {},
   "source": [
    "our dataset"
   ]
  },
  {
   "cell_type": "code",
   "execution_count": 3,
   "metadata": {
    "collapsed": false
   },
   "outputs": [
    {
     "data": {
      "text/html": [
       "<p style=\"height:30px\"></p><p style=\"font-size: 36px\">209 playlists found.</p><p style=\"height:10px\"></p>"
      ],
      "text/plain": [
       "<IPython.core.display.HTML object>"
      ]
     },
     "execution_count": 3,
     "metadata": {},
     "output_type": "execute_result"
    }
   ],
   "source": [
    "count = db[playlists].count()\n",
    "HTML('<p style=\"height:30px\"></p><p style=\"font-size: 36px\">{:,} playlists found.</p><p style=\"height:10px\"></p>'.format(count))"
   ]
  },
  {
   "cell_type": "markdown",
   "metadata": {},
   "source": [
    "# Map Reduce"
   ]
  },
  {
   "cell_type": "code",
   "execution_count": 4,
   "metadata": {
    "collapsed": true
   },
   "outputs": [],
   "source": [
    "from bson.code import Code\n",
    "# bson.code is just a tool for representing JavaScript code in BSON"
   ]
  },
  {
   "cell_type": "markdown",
   "metadata": {},
   "source": [
    "#### Map Function"
   ]
  },
  {
   "cell_type": "code",
   "execution_count": 5,
   "metadata": {
    "collapsed": true
   },
   "outputs": [],
   "source": [
    "mapper = Code(\"\"\"\n",
    "               function () {\n",
    "                   var artist = this.info.artistName; \n",
    "                   if (artist.length < 100){\n",
    "                       // avoid indexing error in output collection\n",
    "                       emit(artist, 1);\n",
    "                   }\n",
    "               }\n",
    "               \"\"\")"
   ]
  },
  {
   "cell_type": "markdown",
   "metadata": {},
   "source": [
    "#### Reduce Function"
   ]
  },
  {
   "cell_type": "code",
   "execution_count": 6,
   "metadata": {
    "collapsed": true
   },
   "outputs": [],
   "source": [
    "reducer = Code(\"\"\"\n",
    "                function (key, values) {\n",
    "                  var total = 0;\n",
    "                  for (var i = 0; i < values.length; i++) {\n",
    "                    total += values[i];\n",
    "                  }\n",
    "                  return total;\n",
    "                }\n",
    "                \"\"\")"
   ]
  },
  {
   "cell_type": "markdown",
   "metadata": {},
   "source": [
    "#### send output to a collection: \"results_collection\"\n",
    "measuring the excecution time and playing a scientific sound when finished"
   ]
  },
  {
   "cell_type": "code",
   "execution_count": 7,
   "metadata": {
    "collapsed": false
   },
   "outputs": [
    {
     "name": "stdout",
     "output_type": "stream",
     "text": [
      "mape reduce done, took: 0:00:00.158125\n",
      "found 2 artists\n"
     ]
    },
    {
     "data": {
      "text/html": [
       "\n",
       "                <audio controls=\"controls\" autoplay=\"autoplay\">\n",
       "                    <source src=\"data:audio/mpeg;base64,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\" type=\"audio/mpeg\" />\n",
       "                    Your browser does not support the audio element.\n",
       "                </audio>\n",
       "              "
      ],
      "text/plain": [
       "<IPython.lib.display.Audio object>"
      ]
     },
     "execution_count": 7,
     "metadata": {},
     "output_type": "execute_result"
    }
   ],
   "source": [
    "start = datetime.datetime.now()\n",
    "#\n",
    "result = db[playlists].map_reduce(mapper, reducer, \"results_collection\")\n",
    "# fallback: limit query to a company\n",
    "#result = db[playlists].map_reduce(mapper, reducer, \"results_collection\", query={'info.copyrightIndex': 'MOTOWN'})\n",
    "#\n",
    "print(\"mape reduce done, took: {}\".format(datetime.datetime.now() - start))\n",
    "print(\"found {0:,} artists\".format(db['results_collection'].count()))\n",
    "# audio-signal when done\n",
    "Audio(\"http://www.trekcore.com/audio/communicator/ent_communicator1.mp3\", autoplay=True)"
   ]
  },
  {
   "cell_type": "code",
   "execution_count": 8,
   "metadata": {
    "collapsed": true
   },
   "outputs": [],
   "source": [
    "# <<<<\n",
    "\n",
    "\n",
    "\n",
    "\n",
    "\n",
    "\n",
    "\n",
    "\n",
    "#"
   ]
  },
  {
   "cell_type": "markdown",
   "metadata": {},
   "source": [
    "# Aggregation Framework"
   ]
  },
  {
   "cell_type": "code",
   "execution_count": 9,
   "metadata": {
    "collapsed": false
   },
   "outputs": [
    {
     "name": "stdout",
     "output_type": "stream",
     "text": [
      "found 93 releases for Taylor Swift\n"
     ]
    }
   ],
   "source": [
    "query = {\"info.artistName\": artist}\n",
    "count = db[playlists].count(query)\n",
    "print(\"found {:,} releases for {}\".format(count, artist))"
   ]
  },
  {
   "cell_type": "markdown",
   "metadata": {},
   "source": [
    "### \\$match \\$project"
   ]
  },
  {
   "cell_type": "code",
   "execution_count": 10,
   "metadata": {
    "collapsed": true
   },
   "outputs": [],
   "source": [
    "pipeline = [\n",
    "    {\"$match\": {\"info.artistName\": artist}},\n",
    "    {\"$project\": {\"release\": \"$info.name\", \"_id\": 0}},\n",
    "]"
   ]
  },
  {
   "cell_type": "code",
   "execution_count": 11,
   "metadata": {
    "collapsed": false
   },
   "outputs": [
    {
     "name": "stdout",
     "output_type": "stream",
     "text": [
      "\n",
      " found 93 document\n",
      "\n"
     ]
    }
   ],
   "source": [
    "res = db[playlists].aggregate(pipeline)\n",
    "print(\"\\n found {} document\\n\".format(len(list(res))))"
   ]
  },
  {
   "cell_type": "code",
   "execution_count": 12,
   "metadata": {
    "collapsed": false
   },
   "outputs": [
    {
     "name": "stdout",
     "output_type": "stream",
     "text": [
      "[]\n"
     ]
    },
    {
     "data": {
      "image/jpeg": "[encoded data removed]",
      "text/plain": [
       "<IPython.core.display.Image object>"
      ]
     },
     "execution_count": 12,
     "metadata": {},
     "output_type": "execute_result"
    }
   ],
   "source": [
    "# let's hav a look at our dataset\n",
    "print(list(res))\n",
    "#\n",
    "Image(filename='pic/boom.jpg')"
   ]
  },
  {
   "cell_type": "code",
   "execution_count": 13,
   "metadata": {
    "collapsed": false
   },
   "outputs": [
    {
     "name": "stdout",
     "output_type": "stream",
     "text": [
      "[{'release': 'Fearless (Platinum Edition)'}, {'release': 'Speak Now'}, {'release': 'Fearless'}, {'release': 'Fearless'}, {'release': 'Red'}, {'release': 'Speak Now - World Tour Live'}, {'release': 'Safe & Sound (From \"The Hunger Games\" Soundtrack) [feat. The Civil Wars] - Single'}, {'release': 'Fearless (Platinum Edition)'}, {'release': 'Fearless (Bonus Track Version)'}, {'release': 'Love Story (Stripped) - Single'}, {'release': 'Speak Now: World Tour Live'}, {'release': 'Fearless (Platinum Edition) [Audio Version]'}, {'release': 'Live From SoHo (iTunes exclusive)'}, {'release': 'Sweeter Than Fiction (From \"One Chance\") - Single'}, {'release': 'The Taylor Swift Holiday Collection - Single'}, {'release': 'Red (feat. Alison Krauss, Edgar Meyer, Eric Darken, Sam Bush & Vince Gill) [Live At the CMA Awards / 2013] - Single'}, {'release': 'The Taylor Swift Holiday Collection - EP'}, {'release': 'The Taylor Swift Holiday Collection - EP'}, {'release': 'Mine - Single'}, {'release': 'Speak Now (Karaoke Version)'}, {'release': '1989'}, {'release': '1989'}, {'release': 'Taylor Swift Karaoke: 1989'}, {'release': 'Taylor Swift Karaoke: 1989 (Deluxe)'}, {'release': 'Wonderland - Single'}, {'release': 'New Romantics - Single'}, {'release': 'Taylor Swift Karaoke: 1989 (Deluxe)'}, {'release': 'Taylor Swift Karaoke: 1989 (Deluxe)'}, {'release': 'Red (Deluxe Edition)'}, {'release': 'Fearless'}, {'release': 'Speak Now (Bonus Track Version)'}, {'release': 'Everything Has Changed (Remix) [feat. Ed Sheeran] - Single'}, {'release': 'Safe & Sound (From \"The Hunger Games\" Soundtrack) [feat. The Civil Wars] - Single'}, {'release': 'Fearless (Platinum Edition)'}, {'release': 'Everything Has Changed (Remix) [feat. Ed Sheeran] - Single'}, {'release': 'Speak Now (Extended Version)'}, {'release': 'Speak Now World Tour Live'}, {'release': 'Fearless (Bonus Track Version)'}, {'release': 'Mine - Single'}, {'release': 'Red (Deluxe)'}, {'release': 'Fearless'}, {'release': 'Love Story (Remix Bundle) - Single'}, {'release': 'Teardrops On My Guitar - EP'}, {'release': 'You Belong With Me (Radio Mix) - Single'}, {'release': 'Fearless (Japan Digital Version)'}, {'release': 'Long Live (feat. Paula Fernandes) - Single'}, {'release': 'Love Story - Single'}, {'release': 'Red (Deluxe Version)'}, {'release': 'iTunes Live from SoHo'}, {'release': 'Speak Now'}, {'release': 'Red'}, {'release': 'Fearless (Platinum Edition)'}, {'release': 'We Are Never Ever Getting Back Together - Single'}, {'release': 'Taylor Swift (Bonus Track Version)'}, {'release': 'Taylor Swift (Karaoke Version)'}, {'release': 'Speak Now - World Tour Live'}, {'release': '1989 (Deluxe)'}, {'release': '1989 (Deluxe)'}, {'release': 'Red (Deluxe Version)'}, {'release': 'Red'}, {'release': 'Speak Now (Deluxe Version)'}, {'release': 'Taylor Swift'}, {'release': 'Fearless (Deluxe Version)'}, {'release': '1989 (Deluxe)'}, {'release': 'Speak Now'}, {'release': 'Taylor Swift Karaoke: 1989'}, {'release': 'Speak Now'}, {'release': 'Fearless (Karaoke Version)'}, {'release': 'You Belong With Me - EP'}, {'release': 'Love Story - Single'}, {'release': 'Love Story - Single'}, {'release': 'Speak Now - Single'}, {'release': 'Today Was a Fairytale - Single'}, {'release': 'You Are In Love'}, {'release': 'Sweeter Than Fiction (From \"One Chance\") - Single'}, {'release': 'Red (2013 CMA Awards Performance) [feat. Alison Krauss, Edgar Meyer, Eric Darken, Sam Bush & Vince Gill] - Single'}, {'release': 'Taylor Swift Karaoke: 1989'}, {'release': 'Sweeter Than Fiction - Single'}, {'release': 'Red'}, {'release': 'Taylor Swift Karaoke: 1989 (Deluxe Edition)'}, {'release': 'We Are Never Ever Getting Back Together - Single'}, {'release': 'Red (Karaoke Version)'}, {'release': 'Today Was a Fairytale - Single'}, {'release': 'Back to December - Single'}, {'release': 'Taylor Swift'}, {'release': '1989'}, {'release': '1989 (Deluxe Edition)'}, {'release': '1989'}, {'release': 'Taylor Swift Karaoke: 1989 (Deluxe)'}, {'release': 'Bad Blood (feat. Kendrick Lamar) - Single'}, {'release': 'Bad Blood (feat. Kendrick Lamar) - Single'}, {'release': 'Taylor Swift Karaoke: Speak Now'}, {'release': 'Love Story - EP'}]\n"
     ]
    }
   ],
   "source": [
    "cursor = db[playlists].aggregate(pipeline)\n",
    "print(list(cursor))"
   ]
  },
  {
   "cell_type": "code",
   "execution_count": 14,
   "metadata": {
    "collapsed": false
   },
   "outputs": [
    {
     "data": {
      "text/html": [
       "<h3>releases of Taylor Swift</h3><table><tr><td>position</td><td>release</td></tr><tr><td>1</td><td>Fearless (Platinum Edition)</td></tr><tr><td>2</td><td>Speak Now</td></tr><tr><td>3</td><td>Fearless</td></tr><tr><td>4</td><td>Fearless</td></tr><tr><td>5</td><td>Red</td></tr><tr><td>6</td><td>Speak Now - World Tour Live</td></tr><tr><td>7</td><td>Safe & Sound (From \"The Hunger Games\" Soundtrack) [feat. The Civil Wars] - Single</td></tr><tr><td>8</td><td>Fearless (Platinum Edition)</td></tr><tr><td>9</td><td>Fearless (Bonus Track Version)</td></tr><tr><td>10</td><td>Love Story (Stripped) - Single</td></tr><tr><td>11</td><td>Speak Now: World Tour Live</td></tr><tr><td>12</td><td>Fearless (Platinum Edition) [Audio Version]</td></tr><tr><td>13</td><td>Live From SoHo (iTunes exclusive)</td></tr><tr><td>14</td><td>Sweeter Than Fiction (From \"One Chance\") - Single</td></tr><tr><td>15</td><td>The Taylor Swift Holiday Collection - Single</td></tr><tr><td>16</td><td>Red (feat. Alison Krauss, Edgar Meyer, Eric Darken, Sam Bush & Vince Gill) [Live At the CMA Awards / 2013] - Single</td></tr><tr><td>17</td><td>The Taylor Swift Holiday Collection - EP</td></tr><tr><td>18</td><td>The Taylor Swift Holiday Collection - EP</td></tr><tr><td>19</td><td>Mine - Single</td></tr><tr><td>20</td><td>Speak Now (Karaoke Version)</td></tr><tr><td>21</td><td>1989</td></tr><tr><td>22</td><td>1989</td></tr><tr><td>23</td><td>Taylor Swift Karaoke: 1989</td></tr><tr><td>24</td><td>Taylor Swift Karaoke: 1989 (Deluxe)</td></tr><tr><td>25</td><td>Wonderland - Single</td></tr><tr><td>26</td><td>New Romantics - Single</td></tr><tr><td>27</td><td>Taylor Swift Karaoke: 1989 (Deluxe)</td></tr><tr><td>28</td><td>Taylor Swift Karaoke: 1989 (Deluxe)</td></tr><tr><td>29</td><td>Red (Deluxe Edition)</td></tr><tr><td>30</td><td>Fearless</td></tr><tr><td>31</td><td>Speak Now (Bonus Track Version)</td></tr><tr><td>32</td><td>Everything Has Changed (Remix) [feat. Ed Sheeran] - Single</td></tr><tr><td>33</td><td>Safe & Sound (From \"The Hunger Games\" Soundtrack) [feat. The Civil Wars] - Single</td></tr><tr><td>34</td><td>Fearless (Platinum Edition)</td></tr><tr><td>35</td><td>Everything Has Changed (Remix) [feat. Ed Sheeran] - Single</td></tr><tr><td>36</td><td>Speak Now (Extended Version)</td></tr><tr><td>37</td><td>Speak Now World Tour Live</td></tr><tr><td>38</td><td>Fearless (Bonus Track Version)</td></tr><tr><td>39</td><td>Mine - Single</td></tr><tr><td>40</td><td>Red (Deluxe)</td></tr><tr><td>41</td><td>Fearless</td></tr><tr><td>42</td><td>Love Story (Remix Bundle) - Single</td></tr><tr><td>43</td><td>Teardrops On My Guitar - EP</td></tr><tr><td>44</td><td>You Belong With Me (Radio Mix) - Single</td></tr><tr><td>45</td><td>Fearless (Japan Digital Version)</td></tr><tr><td>46</td><td>Long Live (feat. Paula Fernandes) - Single</td></tr><tr><td>47</td><td>Love Story - Single</td></tr><tr><td>48</td><td>Red (Deluxe Version)</td></tr><tr><td>49</td><td>iTunes Live from SoHo</td></tr><tr><td>50</td><td>Speak Now</td></tr><tr><td>51</td><td>Red</td></tr><tr><td>52</td><td>Fearless (Platinum Edition)</td></tr><tr><td>53</td><td>We Are Never Ever Getting Back Together - Single</td></tr><tr><td>54</td><td>Taylor Swift (Bonus Track Version)</td></tr><tr><td>55</td><td>Taylor Swift (Karaoke Version)</td></tr><tr><td>56</td><td>Speak Now - World Tour Live</td></tr><tr><td>57</td><td>1989 (Deluxe)</td></tr><tr><td>58</td><td>1989 (Deluxe)</td></tr><tr><td>59</td><td>Red (Deluxe Version)</td></tr><tr><td>60</td><td>Red</td></tr><tr><td>61</td><td>Speak Now (Deluxe Version)</td></tr><tr><td>62</td><td>Taylor Swift</td></tr><tr><td>63</td><td>Fearless (Deluxe Version)</td></tr><tr><td>64</td><td>1989 (Deluxe)</td></tr><tr><td>65</td><td>Speak Now</td></tr><tr><td>66</td><td>Taylor Swift Karaoke: 1989</td></tr><tr><td>67</td><td>Speak Now</td></tr><tr><td>68</td><td>Fearless (Karaoke Version)</td></tr><tr><td>69</td><td>You Belong With Me - EP</td></tr><tr><td>70</td><td>Love Story - Single</td></tr><tr><td>71</td><td>Love Story - Single</td></tr><tr><td>72</td><td>Speak Now - Single</td></tr><tr><td>73</td><td>Today Was a Fairytale - Single</td></tr><tr><td>74</td><td>You Are In Love</td></tr><tr><td>75</td><td>Sweeter Than Fiction (From \"One Chance\") - Single</td></tr><tr><td>76</td><td>Red (2013 CMA Awards Performance) [feat. Alison Krauss, Edgar Meyer, Eric Darken, Sam Bush & Vince Gill] - Single</td></tr><tr><td>77</td><td>Taylor Swift Karaoke: 1989</td></tr><tr><td>78</td><td>Sweeter Than Fiction - Single</td></tr><tr><td>79</td><td>Red</td></tr><tr><td>80</td><td>Taylor Swift Karaoke: 1989 (Deluxe Edition)</td></tr><tr><td>81</td><td>We Are Never Ever Getting Back Together - Single</td></tr><tr><td>82</td><td>Red (Karaoke Version)</td></tr><tr><td>83</td><td>Today Was a Fairytale - Single</td></tr><tr><td>84</td><td>Back to December - Single</td></tr><tr><td>85</td><td>Taylor Swift</td></tr><tr><td>86</td><td>1989</td></tr><tr><td>87</td><td>1989 (Deluxe Edition)</td></tr><tr><td>88</td><td>1989</td></tr><tr><td>89</td><td>Taylor Swift Karaoke: 1989 (Deluxe)</td></tr><tr><td>90</td><td>Bad Blood (feat. Kendrick Lamar) - Single</td></tr><tr><td>91</td><td>Bad Blood (feat. Kendrick Lamar) - Single</td></tr><tr><td>92</td><td>Taylor Swift Karaoke: Speak Now</td></tr><tr><td>93</td><td>Love Story - EP</td></tr></table>"
      ],
      "text/plain": [
       "[['position', 'release'],\n",
       " [1, 'Fearless (Platinum Edition)'],\n",
       " [2, 'Speak Now'],\n",
       " [3, 'Fearless'],\n",
       " [4, 'Fearless'],\n",
       " [5, 'Red'],\n",
       " [6, 'Speak Now - World Tour Live'],\n",
       " [7,\n",
       "  'Safe & Sound (From \"The Hunger Games\" Soundtrack) [feat. The Civil Wars] - Single'],\n",
       " [8, 'Fearless (Platinum Edition)'],\n",
       " [9, 'Fearless (Bonus Track Version)'],\n",
       " [10, 'Love Story (Stripped) - Single'],\n",
       " [11, 'Speak Now: World Tour Live'],\n",
       " [12, 'Fearless (Platinum Edition) [Audio Version]'],\n",
       " [13, 'Live From SoHo (iTunes exclusive)'],\n",
       " [14, 'Sweeter Than Fiction (From \"One Chance\") - Single'],\n",
       " [15, 'The Taylor Swift Holiday Collection - Single'],\n",
       " [16,\n",
       "  'Red (feat. Alison Krauss, Edgar Meyer, Eric Darken, Sam Bush & Vince Gill) [Live At the CMA Awards / 2013] - Single'],\n",
       " [17, 'The Taylor Swift Holiday Collection - EP'],\n",
       " [18, 'The Taylor Swift Holiday Collection - EP'],\n",
       " [19, 'Mine - Single'],\n",
       " [20, 'Speak Now (Karaoke Version)'],\n",
       " [21, '1989'],\n",
       " [22, '1989'],\n",
       " [23, 'Taylor Swift Karaoke: 1989'],\n",
       " [24, 'Taylor Swift Karaoke: 1989 (Deluxe)'],\n",
       " [25, 'Wonderland - Single'],\n",
       " [26, 'New Romantics - Single'],\n",
       " [27, 'Taylor Swift Karaoke: 1989 (Deluxe)'],\n",
       " [28, 'Taylor Swift Karaoke: 1989 (Deluxe)'],\n",
       " [29, 'Red (Deluxe Edition)'],\n",
       " [30, 'Fearless'],\n",
       " [31, 'Speak Now (Bonus Track Version)'],\n",
       " [32, 'Everything Has Changed (Remix) [feat. Ed Sheeran] - Single'],\n",
       " [33,\n",
       "  'Safe & Sound (From \"The Hunger Games\" Soundtrack) [feat. The Civil Wars] - Single'],\n",
       " [34, 'Fearless (Platinum Edition)'],\n",
       " [35, 'Everything Has Changed (Remix) [feat. Ed Sheeran] - Single'],\n",
       " [36, 'Speak Now (Extended Version)'],\n",
       " [37, 'Speak Now World Tour Live'],\n",
       " [38, 'Fearless (Bonus Track Version)'],\n",
       " [39, 'Mine - Single'],\n",
       " [40, 'Red (Deluxe)'],\n",
       " [41, 'Fearless'],\n",
       " [42, 'Love Story (Remix Bundle) - Single'],\n",
       " [43, 'Teardrops On My Guitar - EP'],\n",
       " [44, 'You Belong With Me (Radio Mix) - Single'],\n",
       " [45, 'Fearless (Japan Digital Version)'],\n",
       " [46, 'Long Live (feat. Paula Fernandes) - Single'],\n",
       " [47, 'Love Story - Single'],\n",
       " [48, 'Red (Deluxe Version)'],\n",
       " [49, 'iTunes Live from SoHo'],\n",
       " [50, 'Speak Now'],\n",
       " [51, 'Red'],\n",
       " [52, 'Fearless (Platinum Edition)'],\n",
       " [53, 'We Are Never Ever Getting Back Together - Single'],\n",
       " [54, 'Taylor Swift (Bonus Track Version)'],\n",
       " [55, 'Taylor Swift (Karaoke Version)'],\n",
       " [56, 'Speak Now - World Tour Live'],\n",
       " [57, '1989 (Deluxe)'],\n",
       " [58, '1989 (Deluxe)'],\n",
       " [59, 'Red (Deluxe Version)'],\n",
       " [60, 'Red'],\n",
       " [61, 'Speak Now (Deluxe Version)'],\n",
       " [62, 'Taylor Swift'],\n",
       " [63, 'Fearless (Deluxe Version)'],\n",
       " [64, '1989 (Deluxe)'],\n",
       " [65, 'Speak Now'],\n",
       " [66, 'Taylor Swift Karaoke: 1989'],\n",
       " [67, 'Speak Now'],\n",
       " [68, 'Fearless (Karaoke Version)'],\n",
       " [69, 'You Belong With Me - EP'],\n",
       " [70, 'Love Story - Single'],\n",
       " [71, 'Love Story - Single'],\n",
       " [72, 'Speak Now - Single'],\n",
       " [73, 'Today Was a Fairytale - Single'],\n",
       " [74, 'You Are In Love'],\n",
       " [75, 'Sweeter Than Fiction (From \"One Chance\") - Single'],\n",
       " [76,\n",
       "  'Red (2013 CMA Awards Performance) [feat. Alison Krauss, Edgar Meyer, Eric Darken, Sam Bush & Vince Gill] - Single'],\n",
       " [77, 'Taylor Swift Karaoke: 1989'],\n",
       " [78, 'Sweeter Than Fiction - Single'],\n",
       " [79, 'Red'],\n",
       " [80, 'Taylor Swift Karaoke: 1989 (Deluxe Edition)'],\n",
       " [81, 'We Are Never Ever Getting Back Together - Single'],\n",
       " [82, 'Red (Karaoke Version)'],\n",
       " [83, 'Today Was a Fairytale - Single'],\n",
       " [84, 'Back to December - Single'],\n",
       " [85, 'Taylor Swift'],\n",
       " [86, '1989'],\n",
       " [87, '1989 (Deluxe Edition)'],\n",
       " [88, '1989'],\n",
       " [89, 'Taylor Swift Karaoke: 1989 (Deluxe)'],\n",
       " [90, 'Bad Blood (feat. Kendrick Lamar) - Single'],\n",
       " [91, 'Bad Blood (feat. Kendrick Lamar) - Single'],\n",
       " [92, 'Taylor Swift Karaoke: Speak Now'],\n",
       " [93, 'Love Story - EP']]"
      ]
     },
     "execution_count": 14,
     "metadata": {},
     "output_type": "execute_result"
    }
   ],
   "source": [
    "cursor = db[playlists].aggregate(pipeline)\n",
    "# output as HTML table\n",
    "table = ListTable()\n",
    "table.title = \"releases of {}\".format(artist)\n",
    "table.append(['position', 'release'])\n",
    "for i, l in enumerate(cursor, 1):\n",
    "    table.append([i, l['release']])\n",
    "table"
   ]
  },
  {
   "cell_type": "code",
   "execution_count": 15,
   "metadata": {
    "collapsed": true
   },
   "outputs": [],
   "source": [
    "# <<<<\n",
    "\n",
    "\n",
    "\n",
    "\n",
    "\n",
    "\n",
    "\n",
    "\n",
    "#"
   ]
  },
  {
   "cell_type": "markdown",
   "metadata": {},
   "source": [
    "###  $group"
   ]
  },
  {
   "cell_type": "markdown",
   "metadata": {},
   "source": [
    "\n",
    "\n",
    "\n",
    "\n",
    "\n"
   ]
  },
  {
   "cell_type": "code",
   "execution_count": 16,
   "metadata": {
    "collapsed": true
   },
   "outputs": [],
   "source": [
    "pipeline = [\n",
    "    {\"$match\": {\"info.artistName\": artist}},\n",
    "    \n",
    "    {\"$group\": {\n",
    "       \"_id\": \"$info.name\",\n",
    "       \"count\": {\"$sum\": 1}}},\n",
    "   \n",
    "    {\"$project\": {\"release\": \"$_id\", \"_id\": 0, \"count\": 1}},\n",
    "    {\"$sort\": {\"release\": ASCENDING}}\n",
    "]"
   ]
  },
  {
   "cell_type": "code",
   "execution_count": 17,
   "metadata": {
    "collapsed": false
   },
   "outputs": [
    {
     "data": {
      "text/html": [
       "<h3>duplicate releases of Taylor Swift</h3><table><tr><td>count</td><td>release</td></tr><tr><td>4</td><td>1989</td></tr><tr><td>1</td><td>1989 (Deluxe Edition)</td></tr><tr><td>3</td><td>1989 (Deluxe)</td></tr><tr><td>1</td><td>Back to December - Single</td></tr><tr><td>2</td><td>Bad Blood (feat. Kendrick Lamar) - Single</td></tr><tr><td>2</td><td>Everything Has Changed (Remix) [feat. Ed Sheeran] - Single</td></tr><tr><td>4</td><td>Fearless</td></tr><tr><td>2</td><td>Fearless (Bonus Track Version)</td></tr><tr><td>1</td><td>Fearless (Deluxe Version)</td></tr><tr><td>1</td><td>Fearless (Japan Digital Version)</td></tr><tr><td>1</td><td>Fearless (Karaoke Version)</td></tr><tr><td>4</td><td>Fearless (Platinum Edition)</td></tr><tr><td>1</td><td>Fearless (Platinum Edition) [Audio Version]</td></tr><tr><td>1</td><td>Live From SoHo (iTunes exclusive)</td></tr><tr><td>1</td><td>Long Live (feat. Paula Fernandes) - Single</td></tr><tr><td>1</td><td>Love Story (Remix Bundle) - Single</td></tr><tr><td>1</td><td>Love Story (Stripped) - Single</td></tr><tr><td>1</td><td>Love Story - EP</td></tr><tr><td>3</td><td>Love Story - Single</td></tr><tr><td>2</td><td>Mine - Single</td></tr><tr><td>1</td><td>New Romantics - Single</td></tr><tr><td>4</td><td>Red</td></tr><tr><td>1</td><td>Red (2013 CMA Awards Performance) [feat. Alison Krauss, Edgar Meyer, Eric Darken, Sam Bush & Vince Gill] - Single</td></tr><tr><td>1</td><td>Red (Deluxe Edition)</td></tr><tr><td>2</td><td>Red (Deluxe Version)</td></tr><tr><td>1</td><td>Red (Deluxe)</td></tr><tr><td>1</td><td>Red (Karaoke Version)</td></tr><tr><td>1</td><td>Red (feat. Alison Krauss, Edgar Meyer, Eric Darken, Sam Bush & Vince Gill) [Live At the CMA Awards / 2013] - Single</td></tr><tr><td>2</td><td>Safe & Sound (From \"The Hunger Games\" Soundtrack) [feat. The Civil Wars] - Single</td></tr><tr><td>4</td><td>Speak Now</td></tr><tr><td>1</td><td>Speak Now (Bonus Track Version)</td></tr><tr><td>1</td><td>Speak Now (Deluxe Version)</td></tr><tr><td>1</td><td>Speak Now (Extended Version)</td></tr><tr><td>1</td><td>Speak Now (Karaoke Version)</td></tr><tr><td>1</td><td>Speak Now - Single</td></tr><tr><td>2</td><td>Speak Now - World Tour Live</td></tr><tr><td>1</td><td>Speak Now World Tour Live</td></tr><tr><td>1</td><td>Speak Now: World Tour Live</td></tr><tr><td>2</td><td>Sweeter Than Fiction (From \"One Chance\") - Single</td></tr><tr><td>1</td><td>Sweeter Than Fiction - Single</td></tr><tr><td>2</td><td>Taylor Swift</td></tr><tr><td>1</td><td>Taylor Swift (Bonus Track Version)</td></tr><tr><td>1</td><td>Taylor Swift (Karaoke Version)</td></tr><tr><td>3</td><td>Taylor Swift Karaoke: 1989</td></tr><tr><td>1</td><td>Taylor Swift Karaoke: 1989 (Deluxe Edition)</td></tr><tr><td>4</td><td>Taylor Swift Karaoke: 1989 (Deluxe)</td></tr><tr><td>1</td><td>Taylor Swift Karaoke: Speak Now</td></tr><tr><td>1</td><td>Teardrops On My Guitar - EP</td></tr><tr><td>2</td><td>The Taylor Swift Holiday Collection - EP</td></tr><tr><td>1</td><td>The Taylor Swift Holiday Collection - Single</td></tr><tr><td>2</td><td>Today Was a Fairytale - Single</td></tr><tr><td>2</td><td>We Are Never Ever Getting Back Together - Single</td></tr><tr><td>1</td><td>Wonderland - Single</td></tr><tr><td>1</td><td>You Are In Love</td></tr><tr><td>1</td><td>You Belong With Me (Radio Mix) - Single</td></tr><tr><td>1</td><td>You Belong With Me - EP</td></tr><tr><td>1</td><td>iTunes Live from SoHo</td></tr></table>"
      ],
      "text/plain": [
       "[['count', 'release'],\n",
       " [4, '1989'],\n",
       " [1, '1989 (Deluxe Edition)'],\n",
       " [3, '1989 (Deluxe)'],\n",
       " [1, 'Back to December - Single'],\n",
       " [2, 'Bad Blood (feat. Kendrick Lamar) - Single'],\n",
       " [2, 'Everything Has Changed (Remix) [feat. Ed Sheeran] - Single'],\n",
       " [4, 'Fearless'],\n",
       " [2, 'Fearless (Bonus Track Version)'],\n",
       " [1, 'Fearless (Deluxe Version)'],\n",
       " [1, 'Fearless (Japan Digital Version)'],\n",
       " [1, 'Fearless (Karaoke Version)'],\n",
       " [4, 'Fearless (Platinum Edition)'],\n",
       " [1, 'Fearless (Platinum Edition) [Audio Version]'],\n",
       " [1, 'Live From SoHo (iTunes exclusive)'],\n",
       " [1, 'Long Live (feat. Paula Fernandes) - Single'],\n",
       " [1, 'Love Story (Remix Bundle) - Single'],\n",
       " [1, 'Love Story (Stripped) - Single'],\n",
       " [1, 'Love Story - EP'],\n",
       " [3, 'Love Story - Single'],\n",
       " [2, 'Mine - Single'],\n",
       " [1, 'New Romantics - Single'],\n",
       " [4, 'Red'],\n",
       " [1,\n",
       "  'Red (2013 CMA Awards Performance) [feat. Alison Krauss, Edgar Meyer, Eric Darken, Sam Bush & Vince Gill] - Single'],\n",
       " [1, 'Red (Deluxe Edition)'],\n",
       " [2, 'Red (Deluxe Version)'],\n",
       " [1, 'Red (Deluxe)'],\n",
       " [1, 'Red (Karaoke Version)'],\n",
       " [1,\n",
       "  'Red (feat. Alison Krauss, Edgar Meyer, Eric Darken, Sam Bush & Vince Gill) [Live At the CMA Awards / 2013] - Single'],\n",
       " [2,\n",
       "  'Safe & Sound (From \"The Hunger Games\" Soundtrack) [feat. The Civil Wars] - Single'],\n",
       " [4, 'Speak Now'],\n",
       " [1, 'Speak Now (Bonus Track Version)'],\n",
       " [1, 'Speak Now (Deluxe Version)'],\n",
       " [1, 'Speak Now (Extended Version)'],\n",
       " [1, 'Speak Now (Karaoke Version)'],\n",
       " [1, 'Speak Now - Single'],\n",
       " [2, 'Speak Now - World Tour Live'],\n",
       " [1, 'Speak Now World Tour Live'],\n",
       " [1, 'Speak Now: World Tour Live'],\n",
       " [2, 'Sweeter Than Fiction (From \"One Chance\") - Single'],\n",
       " [1, 'Sweeter Than Fiction - Single'],\n",
       " [2, 'Taylor Swift'],\n",
       " [1, 'Taylor Swift (Bonus Track Version)'],\n",
       " [1, 'Taylor Swift (Karaoke Version)'],\n",
       " [3, 'Taylor Swift Karaoke: 1989'],\n",
       " [1, 'Taylor Swift Karaoke: 1989 (Deluxe Edition)'],\n",
       " [4, 'Taylor Swift Karaoke: 1989 (Deluxe)'],\n",
       " [1, 'Taylor Swift Karaoke: Speak Now'],\n",
       " [1, 'Teardrops On My Guitar - EP'],\n",
       " [2, 'The Taylor Swift Holiday Collection - EP'],\n",
       " [1, 'The Taylor Swift Holiday Collection - Single'],\n",
       " [2, 'Today Was a Fairytale - Single'],\n",
       " [2, 'We Are Never Ever Getting Back Together - Single'],\n",
       " [1, 'Wonderland - Single'],\n",
       " [1, 'You Are In Love'],\n",
       " [1, 'You Belong With Me (Radio Mix) - Single'],\n",
       " [1, 'You Belong With Me - EP'],\n",
       " [1, 'iTunes Live from SoHo']]"
      ]
     },
     "execution_count": 17,
     "metadata": {},
     "output_type": "execute_result"
    }
   ],
   "source": [
    "cursor = db[playlists].aggregate(pipeline)\n",
    "table2 = ListTable()\n",
    "table2.title = \"duplicate releases of {}\".format(artist)\n",
    "table2.append(['count', 'release'])\n",
    "for l in cursor:\n",
    "    table2.append([l.get('count'), l.get('release')])\n",
    "table2"
   ]
  },
  {
   "cell_type": "markdown",
   "metadata": {},
   "source": [
    "###  \\$group - \\$sort -  \\$limit"
   ]
  },
  {
   "cell_type": "code",
   "execution_count": 18,
   "metadata": {
    "collapsed": true
   },
   "outputs": [],
   "source": [
    "pipeline = [\n",
    "    {\"$match\": {\"info.artistName\": artist}},\n",
    "    {\"$group\": {\n",
    "        \"_id\": \"$info.name\",\n",
    "        \"count\": {\"$sum\": 1}\n",
    "    }},\n",
    "    {\"$project\": {\"release\": \"$_id\", \"count\": 1, \"_id\": 0}},\n",
    "    \n",
    "#   {\"$sort\": {\"count\": DESCENDING, \"release\": ASCENDING}},\n",
    "    {\"$sort\": {\"release\": ASCENDING, \"count\": DESCENDING}},\n",
    "\n",
    "    {\"$limit\": 10},\n",
    "    \n",
    "]"
   ]
  },
  {
   "cell_type": "code",
   "execution_count": 19,
   "metadata": {
    "collapsed": false
   },
   "outputs": [
    {
     "data": {
      "text/html": [
       "<h3>top duplicate releases of Taylor Swift</h3><table><tr><td>count</td><td>release</td></tr><tr><td>4</td><td>1989</td></tr><tr><td>1</td><td>1989 (Deluxe Edition)</td></tr><tr><td>3</td><td>1989 (Deluxe)</td></tr><tr><td>1</td><td>Back to December - Single</td></tr><tr><td>2</td><td>Bad Blood (feat. Kendrick Lamar) - Single</td></tr><tr><td>2</td><td>Everything Has Changed (Remix) [feat. Ed Sheeran] - Single</td></tr><tr><td>4</td><td>Fearless</td></tr><tr><td>2</td><td>Fearless (Bonus Track Version)</td></tr><tr><td>1</td><td>Fearless (Deluxe Version)</td></tr><tr><td>1</td><td>Fearless (Japan Digital Version)</td></tr></table>"
      ],
      "text/plain": [
       "[['count', 'release'],\n",
       " [4, '1989'],\n",
       " [1, '1989 (Deluxe Edition)'],\n",
       " [3, '1989 (Deluxe)'],\n",
       " [1, 'Back to December - Single'],\n",
       " [2, 'Bad Blood (feat. Kendrick Lamar) - Single'],\n",
       " [2, 'Everything Has Changed (Remix) [feat. Ed Sheeran] - Single'],\n",
       " [4, 'Fearless'],\n",
       " [2, 'Fearless (Bonus Track Version)'],\n",
       " [1, 'Fearless (Deluxe Version)'],\n",
       " [1, 'Fearless (Japan Digital Version)']]"
      ]
     },
     "execution_count": 19,
     "metadata": {},
     "output_type": "execute_result"
    }
   ],
   "source": [
    "cursor = db[playlists].aggregate(pipeline)\n",
    "table3 = ListTable()\n",
    "table3.title = \"top duplicate releases of {}\".format(artist)\n",
    "table3.append(['count', 'release'])\n",
    "for l in cursor:\n",
    "    table3.append([l.get('count'), l.get('release')])\n",
    "table3"
   ]
  },
  {
   "cell_type": "markdown",
   "metadata": {},
   "source": [
    "#### mind the sort datatype"
   ]
  },
  {
   "cell_type": "code",
   "execution_count": 20,
   "metadata": {
    "collapsed": true
   },
   "outputs": [],
   "source": [
    "pipeline = [\n",
    "    {\"$match\": {\"info.artistName\": artist}},\n",
    "    {\"$group\": {\n",
    "        \"_id\": \"$info.name\",\n",
    "        \"count\": {\"$sum\": 1}\n",
    "    }},\n",
    "    {\"$project\": {\"release\": \"$_id\", \"count\": \"$count\", \"_id\": 0}},\n",
    "    # caveat sort order: use collections.OrderDict or bson.SON!\n",
    "   {\"$sort\": SON([(\"release\", ASCENDING),(\"count\", DESCENDING)])},\n",
    "#    {\"$sort\": SON([(\"count\", DESCENDING), (\"release\", ASCENDING)])},\n",
    "\n",
    "    {\"$limit\": 10},\n",
    "]"
   ]
  },
  {
   "cell_type": "code",
   "execution_count": 21,
   "metadata": {
    "collapsed": false
   },
   "outputs": [
    {
     "data": {
      "text/html": [
       "<h3>top duplicate releases of Taylor Swift</h3><table><tr><td>count</td><td>release</td></tr><tr><td>4</td><td>1989</td></tr><tr><td>1</td><td>1989 (Deluxe Edition)</td></tr><tr><td>3</td><td>1989 (Deluxe)</td></tr><tr><td>1</td><td>Back to December - Single</td></tr><tr><td>2</td><td>Bad Blood (feat. Kendrick Lamar) - Single</td></tr><tr><td>2</td><td>Everything Has Changed (Remix) [feat. Ed Sheeran] - Single</td></tr><tr><td>4</td><td>Fearless</td></tr><tr><td>2</td><td>Fearless (Bonus Track Version)</td></tr><tr><td>1</td><td>Fearless (Deluxe Version)</td></tr><tr><td>1</td><td>Fearless (Japan Digital Version)</td></tr></table>"
      ],
      "text/plain": [
       "[['count', 'release'],\n",
       " [4, '1989'],\n",
       " [1, '1989 (Deluxe Edition)'],\n",
       " [3, '1989 (Deluxe)'],\n",
       " [1, 'Back to December - Single'],\n",
       " [2, 'Bad Blood (feat. Kendrick Lamar) - Single'],\n",
       " [2, 'Everything Has Changed (Remix) [feat. Ed Sheeran] - Single'],\n",
       " [4, 'Fearless'],\n",
       " [2, 'Fearless (Bonus Track Version)'],\n",
       " [1, 'Fearless (Deluxe Version)'],\n",
       " [1, 'Fearless (Japan Digital Version)']]"
      ]
     },
     "execution_count": 21,
     "metadata": {},
     "output_type": "execute_result"
    }
   ],
   "source": [
    "cursor = db[playlists].aggregate(pipeline)\n",
    "table3 = ListTable()\n",
    "table3.title = \"top duplicate releases of {}\".format(artist)\n",
    "table3.append(['count', 'release'])\n",
    "for l in cursor:\n",
    "    table3.append([l.get('count'), l.get('release')])\n",
    "table3"
   ]
  },
  {
   "cell_type": "code",
   "execution_count": 22,
   "metadata": {
    "collapsed": true
   },
   "outputs": [],
   "source": [
    "# <<<<\n",
    "\n",
    "\n",
    "\n",
    "\n",
    "\n",
    "\n",
    "\n",
    "\n",
    "#"
   ]
  },
  {
   "cell_type": "markdown",
   "metadata": {},
   "source": [
    "### $unwind"
   ]
  },
  {
   "cell_type": "code",
   "execution_count": 23,
   "metadata": {
    "collapsed": true
   },
   "outputs": [],
   "source": [
    "# aggregate information in subdocuments\n",
    "# get all the songs\n",
    "pipeline = [\n",
    "    {\"$match\": {\"info.artistName\": artist}},\n",
    "    \n",
    "    \n",
    "    {\"$unwind\": \"$info.children\"},\n",
    "    \n",
    "    \n",
    "    {\"$group\": {\n",
    "        \"_id\": \"$info.children.name\"\n",
    "    }},\n",
    "    {\"$project\": {\"song\": \"$_id\", \"_id\": 0}},\n",
    "    {\"$sort\": SON([(\"song\", ASCENDING)])},\n",
    "]"
   ]
  },
  {
   "cell_type": "code",
   "execution_count": 24,
   "metadata": {
    "collapsed": false
   },
   "outputs": [
    {
     "data": {
      "text/html": [
       "<h3>songs of Taylor Swift</h3><table><tr><td>position</td><td>release</td></tr><tr><td>1</td><td>22</td></tr><tr><td>2</td><td>22 (Karaoke Version)</td></tr><tr><td>3</td><td>A Perfectly Good Heart</td></tr><tr><td>4</td><td>A Perfectly Good Heart (Karaoke Version)</td></tr><tr><td>5</td><td>A Place In This World</td></tr><tr><td>6</td><td>A Place In This World (Karaoke Version)</td></tr><tr><td>7</td><td>A Place In This World (Live)</td></tr><tr><td>8</td><td>A Place In This World (iTunes Live from SoHo)</td></tr><tr><td>9</td><td>All Too Well</td></tr><tr><td>10</td><td>All Too Well (Karaoke Version)</td></tr><tr><td>11</td><td>All You Had To Do Was Stay (Instrumental With Background Vocals)</td></tr><tr><td>12</td><td>All You Had To Do Was Stay (Karaoke Version)</td></tr><tr><td>13</td><td>All You Had to Do Was Stay (Karaoke Version)</td></tr><tr><td>14</td><td>Back To December (Instrumental With Background Vocals)</td></tr><tr><td>15</td><td>Back to December</td></tr><tr><td>16</td><td>Back to December (Acoustic Version)</td></tr><tr><td>17</td><td>Back to December (Karaoke Version)</td></tr><tr><td>18</td><td>Back to December (US Version)</td></tr><tr><td>19</td><td>Back to December / Apologize / You're Not Sorry (Live 2011)</td></tr><tr><td>20</td><td>Back to December / Apologize / You're Not Sorry (Live from Chicago/San Jose 2011)</td></tr><tr><td>21</td><td>Back to December / Apologize / You're Not Sorry (Live)</td></tr><tr><td>22</td><td>Bad Blood (Instrumental With Background Vocals)</td></tr><tr><td>23</td><td>Bad Blood (Karaoke Version)</td></tr><tr><td>24</td><td>Bad Blood (feat. Kendrick Lamar)</td></tr><tr><td>25</td><td>Beautiful Eyes</td></tr><tr><td>26</td><td>Begin Again</td></tr><tr><td>27</td><td>Begin Again (Karaoke Version)</td></tr><tr><td>28</td><td>Behind the Scenes 'Mine' Music Video</td></tr><tr><td>29</td><td>Bette Davis Eyes (Live 2011)</td></tr><tr><td>30</td><td>Bette Davis Eyes (Live from Los Angeles 2011)</td></tr><tr><td>31</td><td>Bette Davis Eyes (Live)</td></tr><tr><td>32</td><td>Better Than Revenge</td></tr><tr><td>33</td><td>Better Than Revenge (Instrumental With Background Vocals)</td></tr><tr><td>34</td><td>Better Than Revenge (Karaoke Version)</td></tr><tr><td>35</td><td>Better Than Revenge (Live 2011)</td></tr><tr><td>36</td><td>Better Than Revenge (Live from San Jose 2011)</td></tr><tr><td>37</td><td>Better Than Revenge (Live)</td></tr><tr><td>38</td><td>Blank Space (Instrumental With Background Vocals)</td></tr><tr><td>39</td><td>Blank Space (Karaoke Version)</td></tr><tr><td>40</td><td>Breathe</td></tr><tr><td>41</td><td>Breathe (feat. Colbie Caillat)</td></tr><tr><td>42</td><td>Breathe (feat. Colbie Caillat) [Karaoke Version]</td></tr><tr><td>43</td><td>Breathe (feat. Colbie Caillat) [feat. Colbie Caillat]</td></tr><tr><td>44</td><td>CMT Awards \"Thug Story\"</td></tr><tr><td>45</td><td>Change</td></tr><tr><td>46</td><td>Change (Karaoke Version)</td></tr><tr><td>47</td><td>Christmas Must Be Something More</td></tr><tr><td>48</td><td>Christmases When You Were Mine</td></tr><tr><td>49</td><td>Clean (Instrumental With Background Vocals)</td></tr><tr><td>50</td><td>Clean (Karaoke Version)</td></tr><tr><td>51</td><td>Cold As You</td></tr><tr><td>52</td><td>Cold As You (Karaoke Version)</td></tr><tr><td>53</td><td>Come Back... Be Here</td></tr><tr><td>54</td><td>Come In With The Rain</td></tr><tr><td>55</td><td>Come In With the Rain</td></tr><tr><td>56</td><td>Dear John</td></tr><tr><td>57</td><td>Dear John (Instrumental With Background Vocals)</td></tr><tr><td>58</td><td>Dear John (Karaoke Version)</td></tr><tr><td>59</td><td>Dear John (Live 2011)</td></tr><tr><td>60</td><td>Dear John (Live from Chicago/San Jose 2011)</td></tr><tr><td>61</td><td>Dear John (Live)</td></tr><tr><td>62</td><td>Digital Booklet - 1989</td></tr><tr><td>63</td><td>Digital Booklet - 1989 (Deluxe)</td></tr><tr><td>64</td><td>Digital Booklet - Fearless</td></tr><tr><td>65</td><td>Digital Booklet - Red</td></tr><tr><td>66</td><td>Digital Booklet - Red (Deluxe)</td></tr><tr><td>67</td><td>Digital Booklet - Red (Karaoke Version)</td></tr><tr><td>68</td><td>Digital Booklet - Taylor Swift Karaoke: 1989</td></tr><tr><td>69</td><td>Digital Booklet - Taylor Swift Karaoke: 1989 (Deluxe)</td></tr><tr><td>70</td><td>Digital Booklet - Taylor Swift Karaoke: Speak Now</td></tr><tr><td>71</td><td>Digital Booklet - iTunes</td></tr><tr><td>72</td><td>Digital Booklet - iTunes exclusive</td></tr><tr><td>73</td><td>Drops of Jupiter (Live 2011)</td></tr><tr><td>74</td><td>Drops of Jupiter (Live from San Jose 2011)</td></tr><tr><td>75</td><td>Drops of Jupiter (Live)</td></tr><tr><td>76</td><td>Enchanted</td></tr><tr><td>77</td><td>Enchanted (Instrumental With Background Vocals)</td></tr><tr><td>78</td><td>Enchanted (Karaoke Version)</td></tr><tr><td>79</td><td>Enchanted (Live 2011)</td></tr><tr><td>80</td><td>Enchanted (Live from Chicago/San Jose 2011)</td></tr><tr><td>81</td><td>Enchanted (Live)</td></tr><tr><td>82</td><td>Everything Has Changed (Remix) [feat. Ed Sheeran]</td></tr><tr><td>83</td><td>Everything Has Changed (feat. Ed Sheeran)</td></tr><tr><td>84</td><td>Everything Has Changed (feat. Ed Sheeran) [Karaoke Version]</td></tr><tr><td>85</td><td>Fearless</td></tr><tr><td>86</td><td>Fearless (Karaoke Version)</td></tr><tr><td>87</td><td>Fearless (Platinum Edition) - iTunes LP</td></tr><tr><td>88</td><td>Fearless Tour 2009 First Show Behind the Scenes</td></tr><tr><td>89</td><td>Fifteen</td></tr><tr><td>90</td><td>Fifteen (Karaoke Version)</td></tr><tr><td>91</td><td>Forever & Always</td></tr><tr><td>92</td><td>Forever & Always (Karaoke Version)</td></tr><tr><td>93</td><td>Forever & Always (Piano Version)</td></tr><tr><td>94</td><td>Girl At Home</td></tr><tr><td>95</td><td>Haunted</td></tr><tr><td>96</td><td>Haunted (Acoustic Version)</td></tr><tr><td>97</td><td>Haunted (Instrumental With Background Vocals)</td></tr><tr><td>98</td><td>Haunted (Karaoke Version)</td></tr><tr><td>99</td><td>Haunted (Live 2011)</td></tr><tr><td>100</td><td>Haunted (Live from Chicago 2011)</td></tr><tr><td>101</td><td>Haunted (Live)</td></tr><tr><td>102</td><td>Hey Stephen</td></tr><tr><td>103</td><td>Hey Stephen (Karaoke Version)</td></tr><tr><td>104</td><td>Holy Ground</td></tr><tr><td>105</td><td>Holy Ground (Karaoke Version)</td></tr><tr><td>106</td><td>How You Get the Girl (Instrumental With Background Vocals)</td></tr><tr><td>107</td><td>How You Get the Girl (Karaoke Version)</td></tr><tr><td>108</td><td>I Almost Do</td></tr><tr><td>109</td><td>I Almost Do (Karaoke Version)</td></tr><tr><td>110</td><td>I Heart?</td></tr><tr><td>111</td><td>I Knew You Were Trouble</td></tr><tr><td>112</td><td>I Knew You Were Trouble (Karaoke Version)</td></tr><tr><td>113</td><td>I Knew You Were Trouble.</td></tr><tr><td>114</td><td>I Know Places (Instrumental With Background Vocals)</td></tr><tr><td>115</td><td>I Know Places (Karaoke Version)</td></tr><tr><td>116</td><td>I Want You Back (Live 2011)</td></tr><tr><td>117</td><td>I Want You Back (Live from Indianapolis 2011)</td></tr><tr><td>118</td><td>I Want You Back (Live)</td></tr><tr><td>119</td><td>I Wish You Would (Instrumental With Background Vocals)</td></tr><tr><td>120</td><td>I Wish You Would (Karaoke Version)</td></tr><tr><td>121</td><td>I'm Only Me When I'm With You</td></tr><tr><td>122</td><td>I'm Only Me When I'm With You (Karaoke Version)</td></tr><tr><td>123</td><td>If This Was a Movie</td></tr><tr><td>124</td><td>Innocent</td></tr><tr><td>125</td><td>Innocent (Instrumental With Background Vocals)</td></tr><tr><td>126</td><td>Innocent (Karaoke Version)</td></tr><tr><td>127</td><td>Invisible</td></tr><tr><td>128</td><td>Invisible (Karaoke Version)</td></tr><tr><td>129</td><td>Jump Then Fall</td></tr><tr><td>130</td><td>Last Christmas</td></tr><tr><td>131</td><td>Last Kiss</td></tr><tr><td>132</td><td>Last Kiss (Instrumental With Background Vocals)</td></tr><tr><td>133</td><td>Last Kiss (Karaoke Version)</td></tr><tr><td>134</td><td>Last Kiss (Live 2011)</td></tr><tr><td>135</td><td>Last Kiss (Live from Chicago 2011)</td></tr><tr><td>136</td><td>Last Kiss (Live)</td></tr><tr><td>137</td><td>Long Live</td></tr><tr><td>138</td><td>Long Live (Instrumental With Background Vocals)</td></tr><tr><td>139</td><td>Long Live (Karaoke Version)</td></tr><tr><td>140</td><td>Long Live (Live 2011)</td></tr><tr><td>141</td><td>Long Live (Live from San Jose 2011)</td></tr><tr><td>142</td><td>Long Live (Live)</td></tr><tr><td>143</td><td>Long Live (feat. Paula Fernandes)</td></tr><tr><td>144</td><td>Love Story</td></tr><tr><td>145</td><td>Love Story ('On the Set' Behind the Scenes)</td></tr><tr><td>146</td><td>Love Story (Digital Dog Radio Mix)</td></tr><tr><td>147</td><td>Love Story (Digital Dog Remix)</td></tr><tr><td>148</td><td>Love Story (J Stax Club Mix)</td></tr><tr><td>149</td><td>Love Story (Karaoke Version)</td></tr><tr><td>150</td><td>Love Story (On the Set Behind the Scenes)</td></tr><tr><td>151</td><td>Love Story (Stripped)</td></tr><tr><td>152</td><td>Love Story (US Pop Mix)</td></tr><tr><td>153</td><td>Mary's Song (Oh My My My)</td></tr><tr><td>154</td><td>Mary's Song (Oh My My My) [Karaoke Version]</td></tr><tr><td>155</td><td>Mary's Song (Oh My My My) [Live]</td></tr><tr><td>156</td><td>Mean</td></tr><tr><td>157</td><td>Mean (Instrumental With Background Vocals)</td></tr><tr><td>158</td><td>Mean (Karaoke Version)</td></tr><tr><td>159</td><td>Mean (Live 2011)</td></tr><tr><td>160</td><td>Mean (Live from Chicago/San Jose 2011)</td></tr><tr><td>161</td><td>Mean (Live)</td></tr><tr><td>162</td><td>Mine</td></tr><tr><td>163</td><td>Mine (Instrumental With Background Vocals)</td></tr><tr><td>164</td><td>Mine (Karaoke Version)</td></tr><tr><td>165</td><td>Mine (Live 2011)</td></tr><tr><td>166</td><td>Mine (Live from Chicago 2011)</td></tr><tr><td>167</td><td>Mine (Live)</td></tr><tr><td>168</td><td>Mine (Pop Mix)</td></tr><tr><td>169</td><td>Mine (US Version)</td></tr><tr><td>170</td><td>Never Grow Up</td></tr><tr><td>171</td><td>Never Grow Up (Instrumental With Background Vocals)</td></tr><tr><td>172</td><td>Never Grow Up (Karaoke Version)</td></tr><tr><td>173</td><td>New Romantics</td></tr><tr><td>174</td><td>New Romantics (Karaoke Version)</td></tr><tr><td>175</td><td>Our Song</td></tr><tr><td>176</td><td>Our Song (Bonus Track)</td></tr><tr><td>177</td><td>Our Song (Karaoke Version)</td></tr><tr><td>178</td><td>Our Song (Live)</td></tr><tr><td>179</td><td>Ours</td></tr><tr><td>180</td><td>Ours (Live 2011)</td></tr><tr><td>181</td><td>Ours (Live from Denver/Atalanta 2011)</td></tr><tr><td>182</td><td>Ours (Live)</td></tr><tr><td>183</td><td>Out of the Woods (Instrumental With Background Vocals)</td></tr><tr><td>184</td><td>Out of the Woods (Karaoke Version)</td></tr><tr><td>185</td><td>Picture To Burn</td></tr><tr><td>186</td><td>Picture To Burn (Live)</td></tr><tr><td>187</td><td>Picture to Burn</td></tr><tr><td>188</td><td>Picture to Burn (Karaoke Version)</td></tr><tr><td>189</td><td>Picture to Burn (Live)</td></tr><tr><td>190</td><td>Picture to Burn (Radio Edit)</td></tr><tr><td>191</td><td>Picture to Burn (iTunes Live from SoHo)</td></tr><tr><td>192</td><td>Red</td></tr><tr><td>193</td><td>Red (Demo)</td></tr><tr><td>194</td><td>Red (Karaoke Version)</td></tr><tr><td>195</td><td>Red (Original Demo Recording)</td></tr><tr><td>196</td><td>Red (feat. Alison Krauss, Edgar Meyer, Eric Darken, Sam Bush & Vince Gill) [2013 CMA Awards Performance]</td></tr><tr><td>197</td><td>Red (feat. Alison Krauss, Edgar Meyer, Eric Darken, Sam Bush & Vince Gill) [Live At The CMA Awards / 2013]</td></tr><tr><td>198</td><td>Sad Beautiful Tragic</td></tr><tr><td>199</td><td>Sad Beautiful Tragic (Karaoke Version)</td></tr><tr><td>200</td><td>Safe & Sound (From \"the Hunger Games\" Soundtrack) [feat. The Civil Wars]</td></tr><tr><td>201</td><td>Safe & Sound (from \"the Hunger Games\" Soundtrack) [feat. The Civil Wars]</td></tr><tr><td>202</td><td>Santa Baby</td></tr><tr><td>203</td><td>Shake It Off</td></tr><tr><td>204</td><td>Shake It Off (Instrumental With Background Vocals)</td></tr><tr><td>205</td><td>Shake It Off (Karaoke Version)</td></tr><tr><td>206</td><td>Should've Said No</td></tr><tr><td>207</td><td>Should've Said No (Bonus Track)</td></tr><tr><td>208</td><td>Should've Said No (Karaoke Version)</td></tr><tr><td>209</td><td>Should've Said No (Live)</td></tr><tr><td>210</td><td>Should've Said No (iTunes Live from SoHo)</td></tr><tr><td>211</td><td>Silent Night</td></tr><tr><td>212</td><td>Sparks Fly</td></tr><tr><td>213</td><td>Sparks Fly (Instrumental With Background Vocals)</td></tr><tr><td>214</td><td>Sparks Fly (Karaoke Version)</td></tr><tr><td>215</td><td>Sparks Fly (Live 2011)</td></tr><tr><td>216</td><td>Sparks Fly (Live from Chicago 2011)</td></tr><tr><td>217</td><td>Sparks Fly (Live)</td></tr><tr><td>218</td><td>Speak Now</td></tr><tr><td>219</td><td>Speak Now (Instrumental With Background Vocals)</td></tr><tr><td>220</td><td>Speak Now (Karaoke Version)</td></tr><tr><td>221</td><td>Speak Now (Live 2011)</td></tr><tr><td>222</td><td>Speak Now (Live from Chicago/San Jose 2011)</td></tr><tr><td>223</td><td>Speak Now (Live)</td></tr><tr><td>224</td><td>Speak Now - World Tour Live Concert (Live 2011)</td></tr><tr><td>225</td><td>Starlight</td></tr><tr><td>226</td><td>Starlight (Karaoke Version)</td></tr><tr><td>227</td><td>State of Grace</td></tr><tr><td>228</td><td>State of Grace (Acoustic Version)</td></tr><tr><td>229</td><td>State of Grace (Karaoke Version)</td></tr><tr><td>230</td><td>Stay Beautiful</td></tr><tr><td>231</td><td>Stay Beautiful (Karaoke Version)</td></tr><tr><td>232</td><td>Stay Stay Stay</td></tr><tr><td>233</td><td>Stay Stay Stay (Karaoke Version)</td></tr><tr><td>234</td><td>Style (Instrumental With Background Vocals)</td></tr><tr><td>235</td><td>Style (Karaoke Version)</td></tr><tr><td>236</td><td>SuperStar</td></tr><tr><td>237</td><td>Superman</td></tr><tr><td>238</td><td>Sweeter Than Fiction</td></tr><tr><td>239</td><td>Sweeter Than Fiction (From \"One Chance\")</td></tr><tr><td>240</td><td>Teardrops On My Guitar</td></tr><tr><td>241</td><td>Teardrops On My Guitar (Acoustic)</td></tr><tr><td>242</td><td>Teardrops On My Guitar (Bonus Track)</td></tr><tr><td>243</td><td>Teardrops On My Guitar (Cahill Radio Edit)</td></tr><tr><td>244</td><td>Teardrops On My Guitar (Karaoke Version)</td></tr><tr><td>245</td><td>Teardrops On My Guitar (Live)</td></tr><tr><td>246</td><td>Teardrops On My Guitar (Pop Version)</td></tr><tr><td>247</td><td>Teardrops On My Guitar (Radio Single Remix)</td></tr><tr><td>248</td><td>Teardrops on my Guitar (Live)</td></tr><tr><td>249</td><td>Tell Me Why</td></tr><tr><td>250</td><td>Tell Me Why (Karaoke Version)</td></tr><tr><td>251</td><td>The Best Day</td></tr><tr><td>252</td><td>The Best Day (Karaoke Version)</td></tr><tr><td>253</td><td>The Last Time (feat. Gary Lightbody)</td></tr><tr><td>254</td><td>The Last Time (feat. Gary Lightbody) [Karaoke Version]</td></tr><tr><td>255</td><td>The Lucky One</td></tr><tr><td>256</td><td>The Lucky One (Karaoke Version)</td></tr><tr><td>257</td><td>The Moment I Knew</td></tr><tr><td>258</td><td>The Other Side of the Door</td></tr><tr><td>259</td><td>The Outside</td></tr><tr><td>260</td><td>The Outside (Karaoke Version)</td></tr><tr><td>261</td><td>The Story of Us</td></tr><tr><td>262</td><td>The Story of Us (Instrumental With Background Vocals)</td></tr><tr><td>263</td><td>The Story of Us (Karaoke Version)</td></tr><tr><td>264</td><td>The Story of Us (Live 2011)</td></tr><tr><td>265</td><td>The Story of Us (Live from Chicago/San Jose 2011)</td></tr><tr><td>266</td><td>The Story of Us (Live)</td></tr><tr><td>267</td><td>The Story of Us (US Version)</td></tr><tr><td>268</td><td>The Way I Loved You</td></tr><tr><td>269</td><td>The Way I Loved You (Karaoke Version)</td></tr><tr><td>270</td><td>This Love (Instrumental With Background Vocals)</td></tr><tr><td>271</td><td>This Love (Karaoke Version)</td></tr><tr><td>272</td><td>Thug Story (CMT Awards)</td></tr><tr><td>273</td><td>Thug Story (CMT Awards) [feat. T-Pain]</td></tr><tr><td>274</td><td>Tied Together With a Smile</td></tr><tr><td>275</td><td>Tied Together With a Smile (Karaoke Version)</td></tr><tr><td>276</td><td>Tim McGraw</td></tr><tr><td>277</td><td>Tim McGraw (Karaoke Version)</td></tr><tr><td>278</td><td>Tim McGraw (Live)</td></tr><tr><td>279</td><td>Tim McGraw (iTunes SoHo Sessions)</td></tr><tr><td>280</td><td>Tim Mcgraw</td></tr><tr><td>281</td><td>Today Was a Fairytale</td></tr><tr><td>282</td><td>Track 1</td></tr><tr><td>283</td><td>Track 10</td></tr><tr><td>284</td><td>Track 11</td></tr><tr><td>285</td><td>Track 12</td></tr><tr><td>286</td><td>Track 13</td></tr><tr><td>287</td><td>Track 14</td></tr><tr><td>288</td><td>Track 15</td></tr><tr><td>289</td><td>Track 16</td></tr><tr><td>290</td><td>Track 17</td></tr><tr><td>291</td><td>Track 18</td></tr><tr><td>292</td><td>Track 19</td></tr><tr><td>293</td><td>Track 2</td></tr><tr><td>294</td><td>Track 3</td></tr><tr><td>295</td><td>Track 4</td></tr><tr><td>296</td><td>Track 5</td></tr><tr><td>297</td><td>Track 7</td></tr><tr><td>298</td><td>Track 8</td></tr><tr><td>299</td><td>Track 9</td></tr><tr><td>300</td><td>Treacherous</td></tr><tr><td>301</td><td>Treacherous (Demo)</td></tr><tr><td>302</td><td>Treacherous (Karaoke Version)</td></tr><tr><td>303</td><td>Treacherous (Original Demo Recording)</td></tr><tr><td>304</td><td>Umbrella (Live from SoHo)</td></tr><tr><td>305</td><td>Umbrella (Live)</td></tr><tr><td>306</td><td>Umbrella (iTunes Live from SoHo)</td></tr><tr><td>307</td><td>Untouchable</td></tr><tr><td>308</td><td>Video Interview Piece</td></tr><tr><td>309</td><td>We Are Never Ever Getting Back Together</td></tr><tr><td>310</td><td>We Are Never Ever Getting Back Together (Karaoke Version)</td></tr><tr><td>311</td><td>Welcome To New York (Instrumental With Background Vocals)</td></tr><tr><td>312</td><td>Welcome To New York (Karaoke Version)</td></tr><tr><td>313</td><td>Welcome to New York (Karaoke Version)</td></tr><tr><td>314</td><td>White Christmas</td></tr><tr><td>315</td><td>White Horse</td></tr><tr><td>316</td><td>White Horse ('On the Set' Behind the Scenes)</td></tr><tr><td>317</td><td>White Horse (Karaoke Version)</td></tr><tr><td>318</td><td>White Horse (On the Set Behind the Scenes)</td></tr><tr><td>319</td><td>Wildest Dreams (Instrumental With Background Vocals)</td></tr><tr><td>320</td><td>Wildest Dreams (Karaoke Version)</td></tr><tr><td>321</td><td>Wonderland</td></tr><tr><td>322</td><td>Wonderland (Karaoke Version)</td></tr><tr><td>323</td><td>You Are In Love</td></tr><tr><td>324</td><td>You Are In Love (Karaoke Version)</td></tr><tr><td>325</td><td>You Belong With Me</td></tr><tr><td>326</td><td>You Belong With Me ('On the Set' Behind the Scenes)</td></tr><tr><td>327</td><td>You Belong With Me (Karaoke Version)</td></tr><tr><td>328</td><td>You Belong With Me (On the Set Behind the Scenes)</td></tr><tr><td>329</td><td>You Belong With Me (Pop Mix)</td></tr><tr><td>330</td><td>You Belong With Me (Radio Mix)</td></tr><tr><td>331</td><td>You're Not Sorry</td></tr><tr><td>332</td><td>You're Not Sorry (Karaoke Version)</td></tr></table>"
      ],
      "text/plain": [
       "[['position', 'release'],\n",
       " [1, '22'],\n",
       " [2, '22 (Karaoke Version)'],\n",
       " [3, 'A Perfectly Good Heart'],\n",
       " [4, 'A Perfectly Good Heart (Karaoke Version)'],\n",
       " [5, 'A Place In This World'],\n",
       " [6, 'A Place In This World (Karaoke Version)'],\n",
       " [7, 'A Place In This World (Live)'],\n",
       " [8, 'A Place In This World (iTunes Live from SoHo)'],\n",
       " [9, 'All Too Well'],\n",
       " [10, 'All Too Well (Karaoke Version)'],\n",
       " [11, 'All You Had To Do Was Stay (Instrumental With Background Vocals)'],\n",
       " [12, 'All You Had To Do Was Stay (Karaoke Version)'],\n",
       " [13, 'All You Had to Do Was Stay (Karaoke Version)'],\n",
       " [14, 'Back To December (Instrumental With Background Vocals)'],\n",
       " [15, 'Back to December'],\n",
       " [16, 'Back to December (Acoustic Version)'],\n",
       " [17, 'Back to December (Karaoke Version)'],\n",
       " [18, 'Back to December (US Version)'],\n",
       " [19, \"Back to December / Apologize / You're Not Sorry (Live 2011)\"],\n",
       " [20,\n",
       "  \"Back to December / Apologize / You're Not Sorry (Live from Chicago/San Jose 2011)\"],\n",
       " [21, \"Back to December / Apologize / You're Not Sorry (Live)\"],\n",
       " [22, 'Bad Blood (Instrumental With Background Vocals)'],\n",
       " [23, 'Bad Blood (Karaoke Version)'],\n",
       " [24, 'Bad Blood (feat. Kendrick Lamar)'],\n",
       " [25, 'Beautiful Eyes'],\n",
       " [26, 'Begin Again'],\n",
       " [27, 'Begin Again (Karaoke Version)'],\n",
       " [28, \"Behind the Scenes 'Mine' Music Video\"],\n",
       " [29, 'Bette Davis Eyes (Live 2011)'],\n",
       " [30, 'Bette Davis Eyes (Live from Los Angeles 2011)'],\n",
       " [31, 'Bette Davis Eyes (Live)'],\n",
       " [32, 'Better Than Revenge'],\n",
       " [33, 'Better Than Revenge (Instrumental With Background Vocals)'],\n",
       " [34, 'Better Than Revenge (Karaoke Version)'],\n",
       " [35, 'Better Than Revenge (Live 2011)'],\n",
       " [36, 'Better Than Revenge (Live from San Jose 2011)'],\n",
       " [37, 'Better Than Revenge (Live)'],\n",
       " [38, 'Blank Space (Instrumental With Background Vocals)'],\n",
       " [39, 'Blank Space (Karaoke Version)'],\n",
       " [40, 'Breathe'],\n",
       " [41, 'Breathe (feat. Colbie Caillat)'],\n",
       " [42, 'Breathe (feat. Colbie Caillat) [Karaoke Version]'],\n",
       " [43, 'Breathe (feat. Colbie Caillat) [feat. Colbie Caillat]'],\n",
       " [44, 'CMT Awards \"Thug Story\"'],\n",
       " [45, 'Change'],\n",
       " [46, 'Change (Karaoke Version)'],\n",
       " [47, 'Christmas Must Be Something More'],\n",
       " [48, 'Christmases When You Were Mine'],\n",
       " [49, 'Clean (Instrumental With Background Vocals)'],\n",
       " [50, 'Clean (Karaoke Version)'],\n",
       " [51, 'Cold As You'],\n",
       " [52, 'Cold As You (Karaoke Version)'],\n",
       " [53, 'Come Back... Be Here'],\n",
       " [54, 'Come In With The Rain'],\n",
       " [55, 'Come In With the Rain'],\n",
       " [56, 'Dear John'],\n",
       " [57, 'Dear John (Instrumental With Background Vocals)'],\n",
       " [58, 'Dear John (Karaoke Version)'],\n",
       " [59, 'Dear John (Live 2011)'],\n",
       " [60, 'Dear John (Live from Chicago/San Jose 2011)'],\n",
       " [61, 'Dear John (Live)'],\n",
       " [62, 'Digital Booklet - 1989'],\n",
       " [63, 'Digital Booklet - 1989 (Deluxe)'],\n",
       " [64, 'Digital Booklet - Fearless'],\n",
       " [65, 'Digital Booklet - Red'],\n",
       " [66, 'Digital Booklet - Red (Deluxe)'],\n",
       " [67, 'Digital Booklet - Red (Karaoke Version)'],\n",
       " [68, 'Digital Booklet - Taylor Swift Karaoke: 1989'],\n",
       " [69, 'Digital Booklet - Taylor Swift Karaoke: 1989 (Deluxe)'],\n",
       " [70, 'Digital Booklet - Taylor Swift Karaoke: Speak Now'],\n",
       " [71, 'Digital Booklet - iTunes'],\n",
       " [72, 'Digital Booklet - iTunes exclusive'],\n",
       " [73, 'Drops of Jupiter (Live 2011)'],\n",
       " [74, 'Drops of Jupiter (Live from San Jose 2011)'],\n",
       " [75, 'Drops of Jupiter (Live)'],\n",
       " [76, 'Enchanted'],\n",
       " [77, 'Enchanted (Instrumental With Background Vocals)'],\n",
       " [78, 'Enchanted (Karaoke Version)'],\n",
       " [79, 'Enchanted (Live 2011)'],\n",
       " [80, 'Enchanted (Live from Chicago/San Jose 2011)'],\n",
       " [81, 'Enchanted (Live)'],\n",
       " [82, 'Everything Has Changed (Remix) [feat. Ed Sheeran]'],\n",
       " [83, 'Everything Has Changed (feat. Ed Sheeran)'],\n",
       " [84, 'Everything Has Changed (feat. Ed Sheeran) [Karaoke Version]'],\n",
       " [85, 'Fearless'],\n",
       " [86, 'Fearless (Karaoke Version)'],\n",
       " [87, 'Fearless (Platinum Edition) - iTunes LP'],\n",
       " [88, 'Fearless Tour 2009 First Show Behind the Scenes'],\n",
       " [89, 'Fifteen'],\n",
       " [90, 'Fifteen (Karaoke Version)'],\n",
       " [91, 'Forever & Always'],\n",
       " [92, 'Forever & Always (Karaoke Version)'],\n",
       " [93, 'Forever & Always (Piano Version)'],\n",
       " [94, 'Girl At Home'],\n",
       " [95, 'Haunted'],\n",
       " [96, 'Haunted (Acoustic Version)'],\n",
       " [97, 'Haunted (Instrumental With Background Vocals)'],\n",
       " [98, 'Haunted (Karaoke Version)'],\n",
       " [99, 'Haunted (Live 2011)'],\n",
       " [100, 'Haunted (Live from Chicago 2011)'],\n",
       " [101, 'Haunted (Live)'],\n",
       " [102, 'Hey Stephen'],\n",
       " [103, 'Hey Stephen (Karaoke Version)'],\n",
       " [104, 'Holy Ground'],\n",
       " [105, 'Holy Ground (Karaoke Version)'],\n",
       " [106, 'How You Get the Girl (Instrumental With Background Vocals)'],\n",
       " [107, 'How You Get the Girl (Karaoke Version)'],\n",
       " [108, 'I Almost Do'],\n",
       " [109, 'I Almost Do (Karaoke Version)'],\n",
       " [110, 'I Heart?'],\n",
       " [111, 'I Knew You Were Trouble'],\n",
       " [112, 'I Knew You Were Trouble (Karaoke Version)'],\n",
       " [113, 'I Knew You Were Trouble.'],\n",
       " [114, 'I Know Places (Instrumental With Background Vocals)'],\n",
       " [115, 'I Know Places (Karaoke Version)'],\n",
       " [116, 'I Want You Back (Live 2011)'],\n",
       " [117, 'I Want You Back (Live from Indianapolis 2011)'],\n",
       " [118, 'I Want You Back (Live)'],\n",
       " [119, 'I Wish You Would (Instrumental With Background Vocals)'],\n",
       " [120, 'I Wish You Would (Karaoke Version)'],\n",
       " [121, \"I'm Only Me When I'm With You\"],\n",
       " [122, \"I'm Only Me When I'm With You (Karaoke Version)\"],\n",
       " [123, 'If This Was a Movie'],\n",
       " [124, 'Innocent'],\n",
       " [125, 'Innocent (Instrumental With Background Vocals)'],\n",
       " [126, 'Innocent (Karaoke Version)'],\n",
       " [127, 'Invisible'],\n",
       " [128, 'Invisible (Karaoke Version)'],\n",
       " [129, 'Jump Then Fall'],\n",
       " [130, 'Last Christmas'],\n",
       " [131, 'Last Kiss'],\n",
       " [132, 'Last Kiss (Instrumental With Background Vocals)'],\n",
       " [133, 'Last Kiss (Karaoke Version)'],\n",
       " [134, 'Last Kiss (Live 2011)'],\n",
       " [135, 'Last Kiss (Live from Chicago 2011)'],\n",
       " [136, 'Last Kiss (Live)'],\n",
       " [137, 'Long Live'],\n",
       " [138, 'Long Live (Instrumental With Background Vocals)'],\n",
       " [139, 'Long Live (Karaoke Version)'],\n",
       " [140, 'Long Live (Live 2011)'],\n",
       " [141, 'Long Live (Live from San Jose 2011)'],\n",
       " [142, 'Long Live (Live)'],\n",
       " [143, 'Long Live (feat. Paula Fernandes)'],\n",
       " [144, 'Love Story'],\n",
       " [145, \"Love Story ('On the Set' Behind the Scenes)\"],\n",
       " [146, 'Love Story (Digital Dog Radio Mix)'],\n",
       " [147, 'Love Story (Digital Dog Remix)'],\n",
       " [148, 'Love Story (J Stax Club Mix)'],\n",
       " [149, 'Love Story (Karaoke Version)'],\n",
       " [150, 'Love Story (On the Set Behind the Scenes)'],\n",
       " [151, 'Love Story (Stripped)'],\n",
       " [152, 'Love Story (US Pop Mix)'],\n",
       " [153, \"Mary's Song (Oh My My My)\"],\n",
       " [154, \"Mary's Song (Oh My My My) [Karaoke Version]\"],\n",
       " [155, \"Mary's Song (Oh My My My) [Live]\"],\n",
       " [156, 'Mean'],\n",
       " [157, 'Mean (Instrumental With Background Vocals)'],\n",
       " [158, 'Mean (Karaoke Version)'],\n",
       " [159, 'Mean (Live 2011)'],\n",
       " [160, 'Mean (Live from Chicago/San Jose 2011)'],\n",
       " [161, 'Mean (Live)'],\n",
       " [162, 'Mine'],\n",
       " [163, 'Mine (Instrumental With Background Vocals)'],\n",
       " [164, 'Mine (Karaoke Version)'],\n",
       " [165, 'Mine (Live 2011)'],\n",
       " [166, 'Mine (Live from Chicago 2011)'],\n",
       " [167, 'Mine (Live)'],\n",
       " [168, 'Mine (Pop Mix)'],\n",
       " [169, 'Mine (US Version)'],\n",
       " [170, 'Never Grow Up'],\n",
       " [171, 'Never Grow Up (Instrumental With Background Vocals)'],\n",
       " [172, 'Never Grow Up (Karaoke Version)'],\n",
       " [173, 'New Romantics'],\n",
       " [174, 'New Romantics (Karaoke Version)'],\n",
       " [175, 'Our Song'],\n",
       " [176, 'Our Song (Bonus Track)'],\n",
       " [177, 'Our Song (Karaoke Version)'],\n",
       " [178, 'Our Song (Live)'],\n",
       " [179, 'Ours'],\n",
       " [180, 'Ours (Live 2011)'],\n",
       " [181, 'Ours (Live from Denver/Atalanta 2011)'],\n",
       " [182, 'Ours (Live)'],\n",
       " [183, 'Out of the Woods (Instrumental With Background Vocals)'],\n",
       " [184, 'Out of the Woods (Karaoke Version)'],\n",
       " [185, 'Picture To Burn'],\n",
       " [186, 'Picture To Burn (Live)'],\n",
       " [187, 'Picture to Burn'],\n",
       " [188, 'Picture to Burn (Karaoke Version)'],\n",
       " [189, 'Picture to Burn (Live)'],\n",
       " [190, 'Picture to Burn (Radio Edit)'],\n",
       " [191, 'Picture to Burn (iTunes Live from SoHo)'],\n",
       " [192, 'Red'],\n",
       " [193, 'Red (Demo)'],\n",
       " [194, 'Red (Karaoke Version)'],\n",
       " [195, 'Red (Original Demo Recording)'],\n",
       " [196,\n",
       "  'Red (feat. Alison Krauss, Edgar Meyer, Eric Darken, Sam Bush & Vince Gill) [2013 CMA Awards Performance]'],\n",
       " [197,\n",
       "  'Red (feat. Alison Krauss, Edgar Meyer, Eric Darken, Sam Bush & Vince Gill) [Live At The CMA Awards / 2013]'],\n",
       " [198, 'Sad Beautiful Tragic'],\n",
       " [199, 'Sad Beautiful Tragic (Karaoke Version)'],\n",
       " [200,\n",
       "  'Safe & Sound (From \"the Hunger Games\" Soundtrack) [feat. The Civil Wars]'],\n",
       " [201,\n",
       "  'Safe & Sound (from \"the Hunger Games\" Soundtrack) [feat. The Civil Wars]'],\n",
       " [202, 'Santa Baby'],\n",
       " [203, 'Shake It Off'],\n",
       " [204, 'Shake It Off (Instrumental With Background Vocals)'],\n",
       " [205, 'Shake It Off (Karaoke Version)'],\n",
       " [206, \"Should've Said No\"],\n",
       " [207, \"Should've Said No (Bonus Track)\"],\n",
       " [208, \"Should've Said No (Karaoke Version)\"],\n",
       " [209, \"Should've Said No (Live)\"],\n",
       " [210, \"Should've Said No (iTunes Live from SoHo)\"],\n",
       " [211, 'Silent Night'],\n",
       " [212, 'Sparks Fly'],\n",
       " [213, 'Sparks Fly (Instrumental With Background Vocals)'],\n",
       " [214, 'Sparks Fly (Karaoke Version)'],\n",
       " [215, 'Sparks Fly (Live 2011)'],\n",
       " [216, 'Sparks Fly (Live from Chicago 2011)'],\n",
       " [217, 'Sparks Fly (Live)'],\n",
       " [218, 'Speak Now'],\n",
       " [219, 'Speak Now (Instrumental With Background Vocals)'],\n",
       " [220, 'Speak Now (Karaoke Version)'],\n",
       " [221, 'Speak Now (Live 2011)'],\n",
       " [222, 'Speak Now (Live from Chicago/San Jose 2011)'],\n",
       " [223, 'Speak Now (Live)'],\n",
       " [224, 'Speak Now - World Tour Live Concert (Live 2011)'],\n",
       " [225, 'Starlight'],\n",
       " [226, 'Starlight (Karaoke Version)'],\n",
       " [227, 'State of Grace'],\n",
       " [228, 'State of Grace (Acoustic Version)'],\n",
       " [229, 'State of Grace (Karaoke Version)'],\n",
       " [230, 'Stay Beautiful'],\n",
       " [231, 'Stay Beautiful (Karaoke Version)'],\n",
       " [232, 'Stay Stay Stay'],\n",
       " [233, 'Stay Stay Stay (Karaoke Version)'],\n",
       " [234, 'Style (Instrumental With Background Vocals)'],\n",
       " [235, 'Style (Karaoke Version)'],\n",
       " [236, 'SuperStar'],\n",
       " [237, 'Superman'],\n",
       " [238, 'Sweeter Than Fiction'],\n",
       " [239, 'Sweeter Than Fiction (From \"One Chance\")'],\n",
       " [240, 'Teardrops On My Guitar'],\n",
       " [241, 'Teardrops On My Guitar (Acoustic)'],\n",
       " [242, 'Teardrops On My Guitar (Bonus Track)'],\n",
       " [243, 'Teardrops On My Guitar (Cahill Radio Edit)'],\n",
       " [244, 'Teardrops On My Guitar (Karaoke Version)'],\n",
       " [245, 'Teardrops On My Guitar (Live)'],\n",
       " [246, 'Teardrops On My Guitar (Pop Version)'],\n",
       " [247, 'Teardrops On My Guitar (Radio Single Remix)'],\n",
       " [248, 'Teardrops on my Guitar (Live)'],\n",
       " [249, 'Tell Me Why'],\n",
       " [250, 'Tell Me Why (Karaoke Version)'],\n",
       " [251, 'The Best Day'],\n",
       " [252, 'The Best Day (Karaoke Version)'],\n",
       " [253, 'The Last Time (feat. Gary Lightbody)'],\n",
       " [254, 'The Last Time (feat. Gary Lightbody) [Karaoke Version]'],\n",
       " [255, 'The Lucky One'],\n",
       " [256, 'The Lucky One (Karaoke Version)'],\n",
       " [257, 'The Moment I Knew'],\n",
       " [258, 'The Other Side of the Door'],\n",
       " [259, 'The Outside'],\n",
       " [260, 'The Outside (Karaoke Version)'],\n",
       " [261, 'The Story of Us'],\n",
       " [262, 'The Story of Us (Instrumental With Background Vocals)'],\n",
       " [263, 'The Story of Us (Karaoke Version)'],\n",
       " [264, 'The Story of Us (Live 2011)'],\n",
       " [265, 'The Story of Us (Live from Chicago/San Jose 2011)'],\n",
       " [266, 'The Story of Us (Live)'],\n",
       " [267, 'The Story of Us (US Version)'],\n",
       " [268, 'The Way I Loved You'],\n",
       " [269, 'The Way I Loved You (Karaoke Version)'],\n",
       " [270, 'This Love (Instrumental With Background Vocals)'],\n",
       " [271, 'This Love (Karaoke Version)'],\n",
       " [272, 'Thug Story (CMT Awards)'],\n",
       " [273, 'Thug Story (CMT Awards) [feat. T-Pain]'],\n",
       " [274, 'Tied Together With a Smile'],\n",
       " [275, 'Tied Together With a Smile (Karaoke Version)'],\n",
       " [276, 'Tim McGraw'],\n",
       " [277, 'Tim McGraw (Karaoke Version)'],\n",
       " [278, 'Tim McGraw (Live)'],\n",
       " [279, 'Tim McGraw (iTunes SoHo Sessions)'],\n",
       " [280, 'Tim Mcgraw'],\n",
       " [281, 'Today Was a Fairytale'],\n",
       " [282, 'Track 1'],\n",
       " [283, 'Track 10'],\n",
       " [284, 'Track 11'],\n",
       " [285, 'Track 12'],\n",
       " [286, 'Track 13'],\n",
       " [287, 'Track 14'],\n",
       " [288, 'Track 15'],\n",
       " [289, 'Track 16'],\n",
       " [290, 'Track 17'],\n",
       " [291, 'Track 18'],\n",
       " [292, 'Track 19'],\n",
       " [293, 'Track 2'],\n",
       " [294, 'Track 3'],\n",
       " [295, 'Track 4'],\n",
       " [296, 'Track 5'],\n",
       " [297, 'Track 7'],\n",
       " [298, 'Track 8'],\n",
       " [299, 'Track 9'],\n",
       " [300, 'Treacherous'],\n",
       " [301, 'Treacherous (Demo)'],\n",
       " [302, 'Treacherous (Karaoke Version)'],\n",
       " [303, 'Treacherous (Original Demo Recording)'],\n",
       " [304, 'Umbrella (Live from SoHo)'],\n",
       " [305, 'Umbrella (Live)'],\n",
       " [306, 'Umbrella (iTunes Live from SoHo)'],\n",
       " [307, 'Untouchable'],\n",
       " [308, 'Video Interview Piece'],\n",
       " [309, 'We Are Never Ever Getting Back Together'],\n",
       " [310, 'We Are Never Ever Getting Back Together (Karaoke Version)'],\n",
       " [311, 'Welcome To New York (Instrumental With Background Vocals)'],\n",
       " [312, 'Welcome To New York (Karaoke Version)'],\n",
       " [313, 'Welcome to New York (Karaoke Version)'],\n",
       " [314, 'White Christmas'],\n",
       " [315, 'White Horse'],\n",
       " [316, \"White Horse ('On the Set' Behind the Scenes)\"],\n",
       " [317, 'White Horse (Karaoke Version)'],\n",
       " [318, 'White Horse (On the Set Behind the Scenes)'],\n",
       " [319, 'Wildest Dreams (Instrumental With Background Vocals)'],\n",
       " [320, 'Wildest Dreams (Karaoke Version)'],\n",
       " [321, 'Wonderland'],\n",
       " [322, 'Wonderland (Karaoke Version)'],\n",
       " [323, 'You Are In Love'],\n",
       " [324, 'You Are In Love (Karaoke Version)'],\n",
       " [325, 'You Belong With Me'],\n",
       " [326, \"You Belong With Me ('On the Set' Behind the Scenes)\"],\n",
       " [327, 'You Belong With Me (Karaoke Version)'],\n",
       " [328, 'You Belong With Me (On the Set Behind the Scenes)'],\n",
       " [329, 'You Belong With Me (Pop Mix)'],\n",
       " [330, 'You Belong With Me (Radio Mix)'],\n",
       " [331, \"You're Not Sorry\"],\n",
       " [332, \"You're Not Sorry (Karaoke Version)\"]]"
      ]
     },
     "execution_count": 24,
     "metadata": {},
     "output_type": "execute_result"
    }
   ],
   "source": [
    "cursor = db[playlists].aggregate(pipeline)\n",
    "table3 = ListTable()\n",
    "table3.title = \"songs of {}\".format(artist)\n",
    "table3.append(['position', 'release'])\n",
    "for i, l in enumerate(cursor, 1):\n",
    "    table3.append([i, l.get('song')])\n",
    "table3"
   ]
  },
  {
   "cell_type": "markdown",
   "metadata": {},
   "source": [
    "#### inner mechanics of $unwind"
   ]
  },
  {
   "cell_type": "code",
   "execution_count": 25,
   "metadata": {
    "collapsed": true
   },
   "outputs": [],
   "source": [
    "pipeline = [\n",
    "    {\"$match\": {\"info.artistName\": artist}},\n",
    "    {\"$limit\": 1},\n",
    "    {\"$unwind\": \"$info.children\"},\n",
    "    {\"$project\": {\"adamId\": 1, \"info.name\": 1, \"info.children.name\": 1, \"_id\": 0}}\n",
    "]"
   ]
  },
  {
   "cell_type": "code",
   "execution_count": 26,
   "metadata": {
    "collapsed": false
   },
   "outputs": [
    {
     "name": "stdout",
     "output_type": "stream",
     "text": [
      "[{'adamId': 338158385,\n",
      "  'info': {'children': {'name': 'Jump Then Fall'},\n",
      "           'name': 'Fearless (Platinum Edition)'}},\n",
      " {'adamId': 338158385,\n",
      "  'info': {'children': {'name': 'Untouchable'},\n",
      "           'name': 'Fearless (Platinum Edition)'}},\n",
      " {'adamId': 338158385,\n",
      "  'info': {'children': {'name': 'Forever & Always (Piano Version)'},\n",
      "           'name': 'Fearless (Platinum Edition)'}},\n",
      " {'adamId': 338158385,\n",
      "  'info': {'children': {'name': 'Come In With the Rain'},\n",
      "           'name': 'Fearless (Platinum Edition)'}},\n",
      " {'adamId': 338158385,\n",
      "  'info': {'children': {'name': 'SuperStar'},\n",
      "           'name': 'Fearless (Platinum Edition)'}},\n",
      " {'adamId': 338158385,\n",
      "  'info': {'children': {'name': 'The Other Side of the Door'},\n",
      "           'name': 'Fearless (Platinum Edition)'}},\n",
      " {'adamId': 338158385,\n",
      "  'info': {'children': {'name': 'Fearless'},\n",
      "           'name': 'Fearless (Platinum Edition)'}},\n",
      " {'adamId': 338158385,\n",
      "  'info': {'children': {'name': 'Fifteen'},\n",
      "           'name': 'Fearless (Platinum Edition)'}},\n",
      " {'adamId': 338158385,\n",
      "  'info': {'children': {'name': 'Love Story'},\n",
      "           'name': 'Fearless (Platinum Edition)'}},\n",
      " {'adamId': 338158385,\n",
      "  'info': {'children': {'name': 'Hey Stephen'},\n",
      "           'name': 'Fearless (Platinum Edition)'}},\n",
      " {'adamId': 338158385,\n",
      "  'info': {'children': {'name': 'White Horse'},\n",
      "           'name': 'Fearless (Platinum Edition)'}},\n",
      " {'adamId': 338158385,\n",
      "  'info': {'children': {'name': 'You Belong With Me'},\n",
      "           'name': 'Fearless (Platinum Edition)'}},\n",
      " {'adamId': 338158385,\n",
      "  'info': {'children': {'name': 'Breathe (feat. Colbie Caillat) [feat. '\n",
      "                                'Colbie Caillat]'},\n",
      "           'name': 'Fearless (Platinum Edition)'}},\n",
      " {'adamId': 338158385,\n",
      "  'info': {'children': {'name': 'Tell Me Why'},\n",
      "           'name': 'Fearless (Platinum Edition)'}},\n",
      " {'adamId': 338158385,\n",
      "  'info': {'children': {'name': \"You're Not Sorry\"},\n",
      "           'name': 'Fearless (Platinum Edition)'}},\n",
      " {'adamId': 338158385,\n",
      "  'info': {'children': {'name': 'The Way I Loved You'},\n",
      "           'name': 'Fearless (Platinum Edition)'}},\n",
      " {'adamId': 338158385,\n",
      "  'info': {'children': {'name': 'Forever & Always'},\n",
      "           'name': 'Fearless (Platinum Edition)'}},\n",
      " {'adamId': 338158385,\n",
      "  'info': {'children': {'name': 'The Best Day'},\n",
      "           'name': 'Fearless (Platinum Edition)'}},\n",
      " {'adamId': 338158385,\n",
      "  'info': {'children': {'name': 'Change'},\n",
      "           'name': 'Fearless (Platinum Edition)'}}]\n",
      "found 19 documents\n"
     ]
    }
   ],
   "source": [
    "cursor = db[playlists].aggregate(pipeline)\n",
    "r = list(cursor)\n",
    "pprint(r)\n",
    "print(\"found {:,} documents\".format(len(r)))"
   ]
  },
  {
   "cell_type": "code",
   "execution_count": 27,
   "metadata": {
    "collapsed": true
   },
   "outputs": [],
   "source": [
    "# <<<<\n",
    "\n",
    "\n",
    "\n",
    "\n",
    "\n",
    "\n",
    "\n",
    "\n",
    "#"
   ]
  },
  {
   "cell_type": "markdown",
   "metadata": {},
   "source": [
    "## Accumlators"
   ]
  },
  {
   "cell_type": "markdown",
   "metadata": {},
   "source": [
    "### \\$min & \\$max"
   ]
  },
  {
   "cell_type": "code",
   "execution_count": 28,
   "metadata": {
    "collapsed": true
   },
   "outputs": [],
   "source": [
    "pipeline = [\n",
    "    {\"$match\": {\"info.artistName\": artist}},\n",
    "    \n",
    "    \n",
    "    {\"$group\": {\n",
    "        \"_id\": '',\n",
    "        \"minDate\": {\"$min\": \"$info.releaseDateEpoch\"},\n",
    "        \"maxDate\": {\"$max\": \"$info.releaseDateEpoch\"}\n",
    "    }},\n",
    "    \n",
    "    \n",
    "    {\"$project\": {\"_id\": 0, \"minDate\": 1, \"maxDate\": 1}}\n",
    "]"
   ]
  },
  {
   "cell_type": "code",
   "execution_count": 29,
   "metadata": {
    "collapsed": false
   },
   "outputs": [
    {
     "name": "stdout",
     "output_type": "stream",
     "text": [
      "release period of Taylor Swift\n",
      "[{'maxDate': datetime.datetime(2015, 5, 18, 0, 0),\n",
      "  'minDate': datetime.datetime(2006, 10, 24, 0, 0)}]\n"
     ]
    }
   ],
   "source": [
    "cursor = db[playlists].aggregate(pipeline)\n",
    "print(\"release period of {}\".format(artist))\n",
    "pprint(list(cursor))"
   ]
  },
  {
   "cell_type": "code",
   "execution_count": null,
   "metadata": {
    "collapsed": true
   },
   "outputs": [],
   "source": []
  },
  {
   "cell_type": "markdown",
   "metadata": {},
   "source": [
    "### \\$first & \\$last"
   ]
  },
  {
   "cell_type": "markdown",
   "metadata": {},
   "source": [
    "Returns the value that results from applying an **expression** to the first document in a group of documents that share the same group by key."
   ]
  },
  {
   "cell_type": "code",
   "execution_count": 30,
   "metadata": {
    "collapsed": true
   },
   "outputs": [],
   "source": [
    "pipeline = [\n",
    "    {\"$match\": {\"info.artistName\": artist}},\n",
    "    \n",
    "    {\"$sort\": SON([(\"info.releaseDate\", ASCENDING)])},  \n",
    "    {\"$group\": {\n",
    "        \"_id\": \"\",\n",
    "        \"minDate\": {\"$first\": \"$info.releaseDate\"},\n",
    "        \"maxDate\": {\"$last\": \"$info.releaseDate\"},\n",
    "    }},\n",
    "    \n",
    "    \n",
    "    {\"$project\": {\"_id\": 0, \"minDate\": 1, \"maxDate\": 1}}\n",
    "]"
   ]
  },
  {
   "cell_type": "code",
   "execution_count": 31,
   "metadata": {
    "collapsed": false
   },
   "outputs": [
    {
     "name": "stdout",
     "output_type": "stream",
     "text": [
      "\n",
      "\n",
      "release period of Taylor Swift\n",
      "[{'maxDate': '2015-05-18', 'minDate': '2006-10-24'}]\n"
     ]
    }
   ],
   "source": [
    "cursor = db[playlists].aggregate(pipeline)\n",
    "print(\"\\n\\nrelease period of {}\".format(artist))\n",
    "pprint(list(cursor))"
   ]
  },
  {
   "cell_type": "code",
   "execution_count": 32,
   "metadata": {
    "collapsed": true
   },
   "outputs": [],
   "source": [
    "pipeline = [\n",
    "    {\"$match\": {\"info.artistName\": artist}},\n",
    "    \n",
    "    {\"$sort\": SON([(\"info.releaseDate\", ASCENDING)])},  \n",
    "    {\"$group\": {\n",
    "        \"_id\": \"\",\n",
    "        \"minYear\": {\"$first\": {\"$year\": \"$info.releaseDateEpoch\"}},\n",
    "        \"maxYear\": {\"$last\":  {\"$year\": \"$info.releaseDateEpoch\"}},\n",
    "    }},\n",
    "    \n",
    "    \n",
    "    {\"$project\": {\"_id\": 0, \"minYear\": 1, \"maxYear\": 1}}\n",
    "]"
   ]
  },
  {
   "cell_type": "code",
   "execution_count": 33,
   "metadata": {
    "collapsed": false
   },
   "outputs": [
    {
     "name": "stdout",
     "output_type": "stream",
     "text": [
      "release period of Taylor Swift\n",
      "[{'maxYear': 2015, 'minYear': 2006}]\n"
     ]
    }
   ],
   "source": [
    "cursor = db[playlists].aggregate(pipeline)\n",
    "print(\"release period of {}\".format(artist))\n",
    "pprint(list(cursor))"
   ]
  },
  {
   "cell_type": "markdown",
   "metadata": {},
   "source": [
    "##  Operators"
   ]
  },
  {
   "cell_type": "markdown",
   "metadata": {},
   "source": [
    "### date operators"
   ]
  },
  {
   "cell_type": "code",
   "execution_count": 34,
   "metadata": {
    "collapsed": true
   },
   "outputs": [],
   "source": [
    "pipeline = [\n",
    "    {\"$match\": {\"info.artistName\": artist}},\n",
    "    \n",
    "    \n",
    "    {\"$group\": {\n",
    "        \"_id\": {\"$year\": \"$info.releaseDateEpoch\"},\n",
    "        \"count\": {\"$sum\": 1}\n",
    "    }},\n",
    "    \n",
    "    \n",
    "    {\"$project\": {\"year\": \"$_id\", \"_id\": 0, \"count\": 1}},\n",
    "    {\"$sort\": SON([(\"year\", DESCENDING)])}\n",
    "]"
   ]
  },
  {
   "cell_type": "code",
   "execution_count": 35,
   "metadata": {
    "collapsed": false
   },
   "outputs": [
    {
     "data": {
      "text/html": [
       "<h3>count of releases by year of Taylor Swift</h3><table><tr><td>year</td><td>count</td></tr><tr><td>2015</td><td>11</td></tr><tr><td>2014</td><td>10</td></tr><tr><td>2013</td><td>9</td></tr><tr><td>2012</td><td>11</td></tr><tr><td>2011</td><td>9</td></tr><tr><td>2010</td><td>12</td></tr><tr><td>2009</td><td>19</td></tr><tr><td>2008</td><td>5</td></tr><tr><td>2007</td><td>4</td></tr><tr><td>2006</td><td>3</td></tr></table>"
      ],
      "text/plain": [
       "[['year', 'count'],\n",
       " [2015, 11],\n",
       " [2014, 10],\n",
       " [2013, 9],\n",
       " [2012, 11],\n",
       " [2011, 9],\n",
       " [2010, 12],\n",
       " [2009, 19],\n",
       " [2008, 5],\n",
       " [2007, 4],\n",
       " [2006, 3]]"
      ]
     },
     "execution_count": 35,
     "metadata": {},
     "output_type": "execute_result"
    }
   ],
   "source": [
    "cursor = db[playlists].aggregate(pipeline)\n",
    "table4 = ListTable()\n",
    "table4.title = \"count of releases by year of {}\".format(artist)\n",
    "table4.append(['year', 'count'])\n",
    "for l in cursor:\n",
    "    table4.append([l.get('year'), l.get('count')])\n",
    "table4"
   ]
  },
  {
   "cell_type": "code",
   "execution_count": null,
   "metadata": {
    "collapsed": true
   },
   "outputs": [],
   "source": []
  },
  {
   "cell_type": "code",
   "execution_count": 36,
   "metadata": {
    "collapsed": true
   },
   "outputs": [],
   "source": [
    "pipeline = [\n",
    "    {\"$match\": {\"info.artistName\": artist}},\n",
    "    \n",
    "    \n",
    "    {\"$group\": {\n",
    "        \"_id\": {\"year\": {\"$year\": \"$info.releaseDateEpoch\"},\n",
    "               \"month\": {\"$month\": \"$info.releaseDateEpoch\"}},\n",
    "        \"count\": {\"$sum\": 1}\n",
    "    }},\n",
    "    \n",
    "    \n",
    "    {\"$project\": {\"year\": \"$_id.year\",\"month\": \"$_id.month\", \"_id\": 0, \"count\": 1}},\n",
    "    {\"$sort\": SON([(\"year\", DESCENDING), (\"month\", DESCENDING)])}\n",
    "]"
   ]
  },
  {
   "cell_type": "code",
   "execution_count": 37,
   "metadata": {
    "collapsed": false
   },
   "outputs": [
    {
     "data": {
      "text/html": [
       "<h3>count of releases by month/year of Taylor Swift</h3><table><tr><td>year</td><td>month</td><td>count</td></tr><tr><td>2015</td><td>5</td><td>2</td></tr><tr><td>2015</td><td>3</td><td>4</td></tr><tr><td>2015</td><td>2</td><td>4</td></tr><tr><td>2015</td><td>1</td><td>1</td></tr><tr><td>2014</td><td>12</td><td>1</td></tr><tr><td>2014</td><td>10</td><td>8</td></tr><tr><td>2014</td><td>1</td><td>1</td></tr><tr><td>2013</td><td>11</td><td>2</td></tr><tr><td>2013</td><td>10</td><td>3</td></tr><tr><td>2013</td><td>7</td><td>2</td></tr><tr><td>2013</td><td>2</td><td>2</td></tr><tr><td>2012</td><td>10</td><td>8</td></tr><tr><td>2012</td><td>8</td><td>2</td></tr><tr><td>2012</td><td>3</td><td>1</td></tr><tr><td>2011</td><td>12</td><td>3</td></tr><tr><td>2011</td><td>11</td><td>3</td></tr><tr><td>2011</td><td>7</td><td>2</td></tr><tr><td>2011</td><td>2</td><td>1</td></tr><tr><td>2010</td><td>11</td><td>1</td></tr><tr><td>2010</td><td>10</td><td>8</td></tr><tr><td>2010</td><td>8</td><td>2</td></tr><tr><td>2010</td><td>1</td><td>1</td></tr><tr><td>2009</td><td>11</td><td>4</td></tr><tr><td>2009</td><td>10</td><td>2</td></tr><tr><td>2009</td><td>7</td><td>1</td></tr><tr><td>2009</td><td>6</td><td>1</td></tr><tr><td>2009</td><td>3</td><td>5</td></tr><tr><td>2009</td><td>2</td><td>5</td></tr><tr><td>2009</td><td>1</td><td>1</td></tr><tr><td>2008</td><td>12</td><td>1</td></tr><tr><td>2008</td><td>11</td><td>2</td></tr><tr><td>2008</td><td>1</td><td>2</td></tr><tr><td>2007</td><td>10</td><td>3</td></tr><tr><td>2007</td><td>1</td><td>1</td></tr><tr><td>2006</td><td>10</td><td>3</td></tr></table>"
      ],
      "text/plain": [
       "[['year', 'month', 'count'],\n",
       " [2015, 5, 2],\n",
       " [2015, 3, 4],\n",
       " [2015, 2, 4],\n",
       " [2015, 1, 1],\n",
       " [2014, 12, 1],\n",
       " [2014, 10, 8],\n",
       " [2014, 1, 1],\n",
       " [2013, 11, 2],\n",
       " [2013, 10, 3],\n",
       " [2013, 7, 2],\n",
       " [2013, 2, 2],\n",
       " [2012, 10, 8],\n",
       " [2012, 8, 2],\n",
       " [2012, 3, 1],\n",
       " [2011, 12, 3],\n",
       " [2011, 11, 3],\n",
       " [2011, 7, 2],\n",
       " [2011, 2, 1],\n",
       " [2010, 11, 1],\n",
       " [2010, 10, 8],\n",
       " [2010, 8, 2],\n",
       " [2010, 1, 1],\n",
       " [2009, 11, 4],\n",
       " [2009, 10, 2],\n",
       " [2009, 7, 1],\n",
       " [2009, 6, 1],\n",
       " [2009, 3, 5],\n",
       " [2009, 2, 5],\n",
       " [2009, 1, 1],\n",
       " [2008, 12, 1],\n",
       " [2008, 11, 2],\n",
       " [2008, 1, 2],\n",
       " [2007, 10, 3],\n",
       " [2007, 1, 1],\n",
       " [2006, 10, 3]]"
      ]
     },
     "execution_count": 37,
     "metadata": {},
     "output_type": "execute_result"
    }
   ],
   "source": [
    "cursor = db[playlists].aggregate(pipeline)\n",
    "table5 = ListTable()\n",
    "table5.title = \"count of releases by month/year of {}\".format(artist)\n",
    "table5.append(['year', 'month', 'count'])\n",
    "for l in cursor:\n",
    "    table5.append([l.get('year'), l.get('month'), l.get('count')])\n",
    "table5"
   ]
  },
  {
   "cell_type": "code",
   "execution_count": 38,
   "metadata": {
    "collapsed": true
   },
   "outputs": [],
   "source": [
    "# <<<<\n",
    "\n",
    "\n",
    "\n",
    "\n",
    "\n",
    "\n",
    "\n",
    "\n",
    "#"
   ]
  },
  {
   "cell_type": "markdown",
   "metadata": {},
   "source": [
    "# -"
   ]
  },
  {
   "cell_type": "markdown",
   "metadata": {},
   "source": [
    "### $in"
   ]
  },
  {
   "cell_type": "code",
   "execution_count": 39,
   "metadata": {
    "collapsed": true
   },
   "outputs": [],
   "source": [
    "nemesis = \"Katy Perry\"  # arch enemy"
   ]
  },
  {
   "cell_type": "code",
   "execution_count": 40,
   "metadata": {
    "collapsed": true
   },
   "outputs": [],
   "source": [
    "pipeline = [\n",
    "    {\"$match\": {\"info.artistName\": {\"$in\": [artist, nemesis]}}},\n",
    "    {\"$unwind\": \"$info.children\"},\n",
    "    {\"$group\": {\n",
    "        \"_id\": {\"artist\": '$info.artistName', \"song\": \"$info.children.name\"},\n",
    "        \"minDate\": {\"$min\": \"$info.releaseDateEpoch\"},\n",
    "        \"maxDate\": {\"$max\": \"$info.releaseDateEpoch\"},\n",
    "    }},\n",
    "    # artist\n",
    "    {\"$group\": {\"_id\": \"$_id.artist\",\n",
    "                \"minDate\": {\"$min\": \"$minDate\"},\n",
    "                \"maxDate\": {\"$max\": \"$maxDate\"},\n",
    "                \"songCount\": {\"$sum\": 1}\n",
    "                }},\n",
    "    # just renaming attributes\n",
    "    {\"$project\": {\"maxDate\": 1, \"minDate\": 1, \"releaseCount\": 1, \"songCount\": 1,\n",
    "                  \"artist\": \"$_id\", \"_id\": 0}}\n",
    "]"
   ]
  },
  {
   "cell_type": "code",
   "execution_count": 41,
   "metadata": {
    "collapsed": false
   },
   "outputs": [
    {
     "name": "stdout",
     "output_type": "stream",
     "text": [
      "\n",
      "\n",
      " active period\n",
      "[{'artist': 'Katy Perry',\n",
      "  'maxDate': datetime.datetime(2014, 8, 25, 0, 0),\n",
      "  'minDate': datetime.datetime(2007, 11, 20, 0, 0),\n",
      "  'songCount': 127},\n",
      " {'artist': 'Taylor Swift',\n",
      "  'maxDate': datetime.datetime(2015, 5, 18, 0, 0),\n",
      "  'minDate': datetime.datetime(2006, 10, 24, 0, 0),\n",
      "  'songCount': 332}]\n"
     ]
    }
   ],
   "source": [
    "cursor = db[playlists].aggregate(pipeline)\n",
    "print(\"\\n\\n active period\")\n",
    "pprint(list(cursor))"
   ]
  },
  {
   "cell_type": "code",
   "execution_count": null,
   "metadata": {
    "collapsed": true
   },
   "outputs": [],
   "source": []
  },
  {
   "cell_type": "markdown",
   "metadata": {},
   "source": [
    "### $avg"
   ]
  },
  {
   "cell_type": "code",
   "execution_count": 42,
   "metadata": {
    "collapsed": true
   },
   "outputs": [],
   "source": [
    "pipeline = [\n",
    "    \n",
    "    {\"$match\": {\"info.artistName\": {\"$in\": [artist, nemesis]}}},\n",
    "    \n",
    "    {\"$unwind\": \"$info.children\"},\n",
    "    {\"$unwind\": \"$info.children.offers\"},\n",
    "    {\"$unwind\": \"$info.children.offers.assets\"},\n",
    "    \n",
    "    # some cleanup of outliers, don't worrry about it\n",
    "    {\"$match\": {\"info.children.offers.assets.duration\": {\"$gt\": 30}}},\n",
    "    {\"$group\": {\"_id\": \"$info.artistName\",\n",
    "                \"playtime\": {\"$avg\": \"$info.children.offers.assets.duration\"},\n",
    "                }},\n",
    "    # just renaming attributes\n",
    "    {\"$project\": {\"artist\": \"$_id\", \"_id\": 0,\n",
    "                  \"playtime\": {\"$subtract\": [\"$playtime\", {\"$mod\": [\"$playtime\", 1]}]}}}\n",
    "]"
   ]
  },
  {
   "cell_type": "code",
   "execution_count": 43,
   "metadata": {
    "collapsed": false
   },
   "outputs": [
    {
     "name": "stdout",
     "output_type": "stream",
     "text": [
      "\n",
      "\n",
      " average playtimes\n",
      "[{'artist': 'Taylor Swift', 'playtime': 268.0},\n",
      " {'artist': 'Katy Perry', 'playtime': 239.0}]\n"
     ]
    }
   ],
   "source": [
    "cursor = db[playlists].aggregate(pipeline)\n",
    "print(\"\\n\\n average playtimes\")\n",
    "pprint(list(cursor))"
   ]
  },
  {
   "cell_type": "code",
   "execution_count": 44,
   "metadata": {
    "collapsed": true
   },
   "outputs": [],
   "source": [
    "# <<<<\n",
    "\n",
    "\n",
    "\n",
    "\n",
    "\n",
    "\n",
    "\n",
    "\n",
    "#"
   ]
  },
  {
   "cell_type": "markdown",
   "metadata": {},
   "source": [
    "### string operations"
   ]
  },
  {
   "cell_type": "code",
   "execution_count": 45,
   "metadata": {
    "collapsed": true
   },
   "outputs": [],
   "source": [
    "pipeline = [\n",
    "    {\"$match\": {\"info.artistName\": {\"$in\": [artist, nemesis]}}},\n",
    "    {\"$unwind\": \"$info.offers\"},\n",
    "    \n",
    "    \n",
    "    {\"$project\": {\"info.offers.price\": 1, \"info.offers.priceFormatted\": 1, \n",
    "                  \"artist\": \"$info.artistName\",\n",
    "                  \"product\": \"$info.name\",\n",
    "                  # isUSD compare if substring is usd\n",
    "                  \"isUSD\": {\"$cmp\": [\n",
    "                    {\"$toLower\": {\"$substr\": [\"$info.offers.priceFormatted\", 0, 3]}},\n",
    "                    \"usd\"]\n",
    "                           }}},\n",
    "    # $cmp returns -1 / 0 / 1 less / equal / greater, $eq also possible\n",
    "    {\"$match\": {\"isUSD\": 0}},\n",
    "    \n",
    "    \n",
    "    {\"$group\": {\n",
    "        \"_id\": {\"artist\": \"$artist\"},\n",
    "        \"releases\": {\"$push\": {\"price\": \"$info.offers.price\", \"product\": \"$product\"}}\n",
    "    }},\n",
    "    {\"$project\": {\"artist\": \"$_id.artist\", \"_id\": 0, \"releases\": 1}}\n",
    "]"
   ]
  },
  {
   "cell_type": "code",
   "execution_count": 46,
   "metadata": {
    "collapsed": false
   },
   "outputs": [
    {
     "data": {
      "text/html": [
       "<h3>pricing of releases</h3><table><tr><td>artist</td><td>product</td><td>currency</td><td>price</td></tr><tr><td>Taylor Swift</td><td>Fearless (Platinum Edition)</td><td>$</td><td>12.99</td></tr><tr><td></td><td>Speak Now - World Tour Live</td><td>$</td><td>9.99</td></tr><tr><td></td><td>Mine - Single</td><td>$</td><td>1.99</td></tr><tr><td></td><td>Love Story (Remix Bundle) - Single</td><td>$</td><td>1.99</td></tr><tr><td></td><td>Teardrops On My Guitar - EP</td><td>$</td><td>2.49</td></tr><tr><td></td><td>You Belong With Me (Radio Mix) - Single</td><td>$</td><td>0.99</td></tr><tr><td></td><td>Long Live (feat. Paula Fernandes) - Single</td><td>$</td><td>1.29</td></tr><tr><td></td><td>We Are Never Ever Getting Back Together - Single</td><td>$</td><td>1.29</td></tr><tr><td></td><td>Taylor Swift Karaoke: 1989</td><td>$</td><td>9.99</td></tr><tr><td></td><td>Speak Now - Single</td><td>$</td><td>0.99</td></tr><tr><td>Katy Perry</td><td>Roar - Single</td><td>$</td><td>1.29</td></tr><tr><td></td><td>The One That Got Away (feat. B.o.B) - Single</td><td>$</td><td>1.29</td></tr><tr><td></td><td>The One That Got Away (The Remixes)</td><td>$</td><td>2.49</td></tr><tr><td></td><td>Ur So Gay - EP</td><td>$</td><td>2.49</td></tr><tr><td></td><td>Part of Me (Jacques Lu Cont's Thin White Duke Mix) - Single</td><td>$</td><td>1.29</td></tr><tr><td></td><td>Waking Up In Vegas (Radio Edit) - Single</td><td>$</td><td>0.99</td></tr><tr><td></td><td>Teenage Dream - The Complete Confection</td><td>$</td><td>10.99</td></tr><tr><td></td><td>Teenage Dream</td><td>$</td><td>8.28</td></tr><tr><td></td><td>Roar - Single</td><td>$</td><td>1.29</td></tr><tr><td></td><td>One of the Boys</td><td>$</td><td>8.99</td></tr><tr><td></td><td>E.T. (The Remixes) - EP</td><td>$</td><td>2.99</td></tr><tr><td></td><td>The One That Got Away (The Remixes)</td><td>$</td><td>2.49</td></tr><tr><td></td><td>Part of Me - Single</td><td>$</td><td>1.29</td></tr><tr><td></td><td>Teenage Dream</td><td>$</td><td>9.99</td></tr><tr><td></td><td>Roar - Single</td><td>$</td><td>0.99</td></tr><tr><td></td><td>Prism (Standard Version)</td><td>$</td><td>8.99</td></tr><tr><td></td><td>Part of Me - Single</td><td>$</td><td>0.69</td></tr><tr><td></td><td>Prism (Deluxe Version)</td><td>$</td><td>8.99</td></tr><tr><td></td><td>Hot 'n' Cold - EP</td><td>$</td><td>2.49</td></tr><tr><td></td><td>Waking Up In Vegas (The Remixes) - EP</td><td>$</td><td>2.49</td></tr><tr><td></td><td>California Gurls (The Remixes) [feat. Snoop Dogg] - EP</td><td>$</td><td>2.49</td></tr><tr><td></td><td>This Is How We Do (feat. Riff Raff) - Single</td><td>$</td><td>1.29</td></tr><tr><td></td><td>Birthday (Cash Cash Remix) - Single</td><td>$</td><td>0.69</td></tr></table>"
      ],
      "text/plain": [
       "[['artist', 'product', 'currency', 'price'],\n",
       " ['Taylor Swift', 'Fearless (Platinum Edition)', '$', 12.99],\n",
       " ['', 'Speak Now - World Tour Live', '$', 9.99],\n",
       " ['', 'Mine - Single', '$', 1.99],\n",
       " ['', 'Love Story (Remix Bundle) - Single', '$', 1.99],\n",
       " ['', 'Teardrops On My Guitar - EP', '$', 2.49],\n",
       " ['', 'You Belong With Me (Radio Mix) - Single', '$', 0.99],\n",
       " ['', 'Long Live (feat. Paula Fernandes) - Single', '$', 1.29],\n",
       " ['', 'We Are Never Ever Getting Back Together - Single', '$', 1.29],\n",
       " ['', 'Taylor Swift Karaoke: 1989', '$', 9.99],\n",
       " ['', 'Speak Now - Single', '$', 0.99],\n",
       " ['Katy Perry', 'Roar - Single', '$', 1.29],\n",
       " ['', 'The One That Got Away (feat. B.o.B) - Single', '$', 1.29],\n",
       " ['', 'The One That Got Away (The Remixes)', '$', 2.49],\n",
       " ['', 'Ur So Gay - EP', '$', 2.49],\n",
       " ['',\n",
       "  \"Part of Me (Jacques Lu Cont's Thin White Duke Mix) - Single\",\n",
       "  '$',\n",
       "  1.29],\n",
       " ['', 'Waking Up In Vegas (Radio Edit) - Single', '$', 0.99],\n",
       " ['', 'Teenage Dream - The Complete Confection', '$', 10.99],\n",
       " ['', 'Teenage Dream', '$', 8.28],\n",
       " ['', 'Roar - Single', '$', 1.29],\n",
       " ['', 'One of the Boys', '$', 8.99],\n",
       " ['', 'E.T. (The Remixes) - EP', '$', 2.99],\n",
       " ['', 'The One That Got Away (The Remixes)', '$', 2.49],\n",
       " ['', 'Part of Me - Single', '$', 1.29],\n",
       " ['', 'Teenage Dream', '$', 9.99],\n",
       " ['', 'Roar - Single', '$', 0.99],\n",
       " ['', 'Prism (Standard Version)', '$', 8.99],\n",
       " ['', 'Part of Me - Single', '$', 0.69],\n",
       " ['', 'Prism (Deluxe Version)', '$', 8.99],\n",
       " ['', \"Hot 'n' Cold - EP\", '$', 2.49],\n",
       " ['', 'Waking Up In Vegas (The Remixes) - EP', '$', 2.49],\n",
       " ['', 'California Gurls (The Remixes) [feat. Snoop Dogg] - EP', '$', 2.49],\n",
       " ['', 'This Is How We Do (feat. Riff Raff) - Single', '$', 1.29],\n",
       " ['', 'Birthday (Cash Cash Remix) - Single', '$', 0.69]]"
      ]
     },
     "execution_count": 46,
     "metadata": {},
     "output_type": "execute_result"
    }
   ],
   "source": [
    "cursor = db[playlists].aggregate(pipeline)\n",
    "res = list(cursor)\n",
    "table6 = ListTable()\n",
    "table6.title = \"pricing of releases\"\n",
    "table6.append(['artist', 'product', 'currency', 'price'])\n",
    "for l in res:\n",
    "    a = l.get('artist')\n",
    "    for r in l.get('releases'): \n",
    "        table6.append([a, r.get('product')[:80], \"$\", r.get('price')])\n",
    "        a  = \"\"\n",
    "table6"
   ]
  },
  {
   "cell_type": "code",
   "execution_count": 47,
   "metadata": {
    "collapsed": true
   },
   "outputs": [],
   "source": [
    "# <<<<\n",
    "\n",
    "\n",
    "\n",
    "\n",
    "\n",
    "\n",
    "\n",
    "\n",
    "#"
   ]
  },
  {
   "cell_type": "markdown",
   "metadata": {},
   "source": [
    "### $map"
   ]
  },
  {
   "cell_type": "code",
   "execution_count": 48,
   "metadata": {
    "collapsed": true
   },
   "outputs": [],
   "source": [
    "# first: look on the data array we use $map on\n",
    "pipeline = [\n",
    "    {\"$match\": {\"info.artistName\": {\"$in\": [artist, nemesis]}}},\n",
    "    {\"$unwind\": \"$info.offers\"},  \n",
    "    {\"$project\": {\"info.offers.price\": 1, \"info.offers.priceFormatted\": 1, \n",
    "                  \"artist\": \"$info.artistName\",\n",
    "                  \"product\": \"$info.name\",\n",
    "                  # isUSD compare if substring is usd\n",
    "                  \"isUSD\": {\"$cmp\": [\n",
    "                    {\"$toLower\": {\"$substr\": [\"$info.offers.priceFormatted\", 0, 3]}},\n",
    "                    \"usd\"]}}},\n",
    "    {\"$match\": {\"isUSD\": 0}},\n",
    "\n",
    "    {\"$group\": {\n",
    "        \"_id\": \"$artist\",\n",
    "        \"pricing\": {\"$push\": \"$info.offers.price\"}\n",
    "    }} \n",
    "]"
   ]
  },
  {
   "cell_type": "code",
   "execution_count": 49,
   "metadata": {
    "collapsed": false
   },
   "outputs": [
    {
     "name": "stdout",
     "output_type": "stream",
     "text": [
      "Taylor Swift\n",
      "[12.99, 9.99, 1.99, 1.99, 2.49, 0.99, 1.29, 1.29, 9.99, 0.99]\n",
      "Katy Perry\n",
      "[1.29, 1.29, 2.49, 2.49, 1.29, 0.99, 10.99, 8.28, 1.29, 8.99, 2.99, 2.49, 1.29, 9.99, 0.99, 8.99, 0.69, 8.99, 2.49, 2.49, 2.49, 1.29, 0.69]\n"
     ]
    }
   ],
   "source": [
    "cursor = db[playlists].aggregate(pipeline)\n",
    "res = list(cursor)\n",
    "for a in res:\n",
    "    print(a['_id'])\n",
    "    print(a['pricing'])"
   ]
  },
  {
   "cell_type": "code",
   "execution_count": 50,
   "metadata": {
    "collapsed": true
   },
   "outputs": [],
   "source": [
    "# exchange rate\n",
    "eur_dollar_exchange_rate = 0.88\n",
    "\n",
    "pipeline = [\n",
    "    {\"$match\": {\"info.artistName\": {\"$in\": [artist, nemesis]}}},\n",
    "    {\"$unwind\": \"$info.offers\"},  \n",
    "    {\"$project\": {\"info.offers.price\": 1, \"info.offers.priceFormatted\": 1, \n",
    "                  \"artist\": \"$info.artistName\",\n",
    "                  \"product\": \"$info.name\",\n",
    "                  # isUSD compare if substring is usd\n",
    "                  \"isUSD\": {\"$cmp\": [\n",
    "                    {\"$toLower\": {\"$substr\": [\"$info.offers.priceFormatted\", 0, 3]}},\n",
    "                    \"usd\"]}}},\n",
    "    {\"$match\": {\"isUSD\": 0}},\n",
    "\n",
    "    {\"$group\": {\n",
    "        \"_id\": \"$artist\",\n",
    "        \"pricing\": {\"$push\": \"$info.offers.price\"}\n",
    "    }},\n",
    "    {\"$project\": {\n",
    "        \"pricing\": {\"$map\": {\"input\": \"$pricing\",\n",
    "                                         \"as\": \"value\",\n",
    "                                         \"in\": {\"$multiply\": [\"$$value\",\n",
    "                                                         eur_dollar_exchange_rate\n",
    "                                                         ]}}}}},\n",
    "]"
   ]
  },
  {
   "cell_type": "code",
   "execution_count": 51,
   "metadata": {
    "collapsed": false
   },
   "outputs": [
    {
     "data": {
      "text/html": [
       "<h3>pricing of releases</h3><table><tr><td>artist</td><td>currency</td><td>price</td></tr><tr><td>Taylor Swift</td><td>€</td><td>11.431</td></tr><tr><td></td><td>€</td><td>8.791</td></tr><tr><td></td><td>€</td><td>1.751</td></tr><tr><td></td><td>€</td><td>1.751</td></tr><tr><td></td><td>€</td><td>2.191</td></tr><tr><td></td><td>€</td><td>0.871</td></tr><tr><td></td><td>€</td><td>1.135</td></tr><tr><td></td><td>€</td><td>1.135</td></tr><tr><td></td><td>€</td><td>8.791</td></tr><tr><td></td><td>€</td><td>0.871</td></tr><tr><td>Katy Perry</td><td>€</td><td>1.135</td></tr><tr><td></td><td>€</td><td>1.135</td></tr><tr><td></td><td>€</td><td>2.191</td></tr><tr><td></td><td>€</td><td>2.191</td></tr><tr><td></td><td>€</td><td>1.135</td></tr><tr><td></td><td>€</td><td>0.871</td></tr><tr><td></td><td>€</td><td>9.671</td></tr><tr><td></td><td>€</td><td>7.286</td></tr><tr><td></td><td>€</td><td>1.135</td></tr><tr><td></td><td>€</td><td>7.911</td></tr><tr><td></td><td>€</td><td>2.631</td></tr><tr><td></td><td>€</td><td>2.191</td></tr><tr><td></td><td>€</td><td>1.135</td></tr><tr><td></td><td>€</td><td>8.791</td></tr><tr><td></td><td>€</td><td>0.871</td></tr><tr><td></td><td>€</td><td>7.911</td></tr><tr><td></td><td>€</td><td>0.607</td></tr><tr><td></td><td>€</td><td>7.911</td></tr><tr><td></td><td>€</td><td>2.191</td></tr><tr><td></td><td>€</td><td>2.191</td></tr><tr><td></td><td>€</td><td>2.191</td></tr><tr><td></td><td>€</td><td>1.135</td></tr><tr><td></td><td>€</td><td>0.607</td></tr></table>"
      ],
      "text/plain": [
       "[['artist', 'currency', 'price'],\n",
       " ['Taylor Swift', '€', 11.431],\n",
       " ['', '€', 8.791],\n",
       " ['', '€', 1.751],\n",
       " ['', '€', 1.751],\n",
       " ['', '€', 2.191],\n",
       " ['', '€', 0.871],\n",
       " ['', '€', 1.135],\n",
       " ['', '€', 1.135],\n",
       " ['', '€', 8.791],\n",
       " ['', '€', 0.871],\n",
       " ['Katy Perry', '€', 1.135],\n",
       " ['', '€', 1.135],\n",
       " ['', '€', 2.191],\n",
       " ['', '€', 2.191],\n",
       " ['', '€', 1.135],\n",
       " ['', '€', 0.871],\n",
       " ['', '€', 9.671],\n",
       " ['', '€', 7.286],\n",
       " ['', '€', 1.135],\n",
       " ['', '€', 7.911],\n",
       " ['', '€', 2.631],\n",
       " ['', '€', 2.191],\n",
       " ['', '€', 1.135],\n",
       " ['', '€', 8.791],\n",
       " ['', '€', 0.871],\n",
       " ['', '€', 7.911],\n",
       " ['', '€', 0.607],\n",
       " ['', '€', 7.911],\n",
       " ['', '€', 2.191],\n",
       " ['', '€', 2.191],\n",
       " ['', '€', 2.191],\n",
       " ['', '€', 1.135],\n",
       " ['', '€', 0.607]]"
      ]
     },
     "execution_count": 51,
     "metadata": {},
     "output_type": "execute_result"
    }
   ],
   "source": [
    "cursor = db[playlists].aggregate(pipeline)\n",
    "res = list(cursor)\n",
    "table7 = ListTable()\n",
    "table7.title = \"pricing of releases\"\n",
    "table7.append(['artist', 'currency', 'price'])\n",
    "for l in res:\n",
    "    a = l.get('_id')\n",
    "    for r in l.get('pricing'): \n",
    "        table7.append([a, \"€\", round(r, 3)])\n",
    "        a  = \"\"\n",
    "table7"
   ]
  },
  {
   "cell_type": "code",
   "execution_count": 52,
   "metadata": {
    "collapsed": false
   },
   "outputs": [
    {
     "data": {
      "text/plain": [
       "{'allocator': 'system',\n",
       " 'bits': 64,\n",
       " 'buildEnvironment': {'cc': '/usr/bin/clang: Apple LLVM version 7.0.2 (clang-700.1.81)',\n",
       "  'ccflags': '-fno-omit-frame-pointer -fPIC -fno-strict-aliasing -ggdb -pthread -Wall -Wsign-compare -Wno-unknown-pragmas -Winvalid-pch -O2 -Wno-unused-local-typedefs -Wno-unused-function -Wno-unused-private-field -Wno-deprecated-declarations -Wno-tautological-constant-out-of-range-compare -Wno-unused-const-variable -Wno-missing-braces -Wno-inconsistent-missing-override -Wno-potentially-evaluated-expression -Wno-null-conversion -mmacosx-version-min=10.11 -fno-builtin-memcmp',\n",
       "  'cxx': '/usr/bin/clang++: Apple LLVM version 7.0.2 (clang-700.1.81)',\n",
       "  'cxxflags': '-Wnon-virtual-dtor -Woverloaded-virtual -std=c++11',\n",
       "  'distarch': 'x86_64',\n",
       "  'distmod': '',\n",
       "  'linkflags': '-fPIC -pthread -Wl,-bind_at_load -mmacosx-version-min=10.11',\n",
       "  'target_arch': 'x86_64',\n",
       "  'target_os': 'osx'},\n",
       " 'debug': False,\n",
       " 'gitVersion': 'b326ba837cf6f49d65c2f85e1b70f6f31ece7937',\n",
       " 'javascriptEngine': 'mozjs',\n",
       " 'maxBsonObjectSize': 16777216,\n",
       " 'modules': [],\n",
       " 'ok': 1.0,\n",
       " 'openssl': {'compiled': 'disabled', 'running': 'disabled'},\n",
       " 'storageEngines': ['devnull', 'ephemeralForTest', 'mmapv1', 'wiredTiger'],\n",
       " 'sysInfo': 'deprecated',\n",
       " 'version': '3.2.3',\n",
       " 'versionArray': [3, 2, 3, 0]}"
      ]
     },
     "execution_count": 52,
     "metadata": {},
     "output_type": "execute_result"
    }
   ],
   "source": [
    "server_version = db.client.server_info()\n",
    "server_version"
   ]
  },
  {
   "cell_type": "code",
   "execution_count": 53,
   "metadata": {
    "collapsed": false
   },
   "outputs": [],
   "source": [
    "if server_version.get('versionArray')[0] == 3 and server_version.get('versionArray')[1] >= 2:\n",
    "    pipeline = [\n",
    "        {\"$match\": {\"info.artistName\": {\"$in\": [artist, nemesis]}}},\n",
    "        {\"$unwind\": \"$info.offers\"},\n",
    "        {\"$project\": {\"info.offers.price\": 1, \"info.offers.priceFormatted\": 1,\n",
    "                      \"artist\": \"$info.artistName\",\n",
    "                      \"product\": \"$info.name\",\n",
    "                      \"currency\": {\"$toUpper\": {\"$substr\": [\"$info.offers.priceFormatted\", 0, 3]}}}},\n",
    "        # get most current exchanges rate by $lookup\n",
    "        {\"$lookup\": {\n",
    "            \"from\": \"exchangerates\",  # collection to join\n",
    "            \"localField\": \"currency\",  # field from the input documents\n",
    "            \"foreignField\": \"_id\",  # field from the documents of the \"from\" collection\n",
    "            \"as\": \"exchangeRate\"\n",
    "        }},\n",
    "        \n",
    "        {\"$match\": {\"exchangeRate\": {\"$size\": 1}}},  # filter \n",
    "\n",
    "        {\"$group\": {\n",
    "            \"_id\": {\"artist\": \"$artist\", \"currency\": \"$currency\"},\n",
    "            \"pricing\": {\"$push\": \"$info.offers.price\"},\n",
    "            \"rate\": {\"$first\": \"$exchangeRate.rate\"}}},        \n",
    "        \n",
    "        {\"$project\": {\n",
    "                \"_id\": \"$_id.artist\", \n",
    "                \"currency\": \"$_id.currency\", \n",
    "                \"pricing\": {\"$map\": {\"input\": \"$pricing\",\n",
    "                                         \"as\": \"value\",\n",
    "                                         \"in\": {\"$multiply\": [\"$$value\",\n",
    "                                                         {\"$arrayElemAt\": [\"$rate\", 0]}  # rate: [float], $unwind\n",
    "                                                         ]}}} }}\n",
    "    ]\n",
    "else:\n",
    "    print(\"This feature requires mongoDB 3.2+\")"
   ]
  },
  {
   "cell_type": "code",
   "execution_count": 54,
   "metadata": {
    "collapsed": false
   },
   "outputs": [
    {
     "data": {
      "text/html": [
       "<h3>pricing of releases</h3><table><tr><td>artist</td><td>currency</td><td>price</td></tr><tr><td>Taylor Swift</td><td>USD</td><td>14.76 EUR</td></tr><tr><td></td><td>USD</td><td>11.35 EUR</td></tr><tr><td></td><td>USD</td><td>2.26 EUR</td></tr><tr><td></td><td>USD</td><td>2.26 EUR</td></tr><tr><td></td><td>USD</td><td>2.83 EUR</td></tr><tr><td></td><td>USD</td><td>1.12 EUR</td></tr><tr><td></td><td>USD</td><td>1.47 EUR</td></tr><tr><td></td><td>USD</td><td>1.47 EUR</td></tr><tr><td></td><td>USD</td><td>11.35 EUR</td></tr><tr><td></td><td>USD</td><td>1.12 EUR</td></tr><tr><td>Katy Perry</td><td>CHF</td><td>6.52 EUR</td></tr><tr><td></td><td>CHF</td><td>2.39 EUR</td></tr><tr><td></td><td>CHF</td><td>17.4 EUR</td></tr><tr><td>Katy Perry</td><td>USD</td><td>1.47 EUR</td></tr><tr><td></td><td>USD</td><td>1.47 EUR</td></tr><tr><td></td><td>USD</td><td>2.83 EUR</td></tr><tr><td></td><td>USD</td><td>2.83 EUR</td></tr><tr><td></td><td>USD</td><td>1.47 EUR</td></tr><tr><td></td><td>USD</td><td>1.12 EUR</td></tr><tr><td></td><td>USD</td><td>12.49 EUR</td></tr><tr><td></td><td>USD</td><td>9.41 EUR</td></tr><tr><td></td><td>USD</td><td>1.47 EUR</td></tr><tr><td></td><td>USD</td><td>10.22 EUR</td></tr><tr><td></td><td>USD</td><td>3.4 EUR</td></tr><tr><td></td><td>USD</td><td>2.83 EUR</td></tr><tr><td></td><td>USD</td><td>1.47 EUR</td></tr><tr><td></td><td>USD</td><td>11.35 EUR</td></tr><tr><td></td><td>USD</td><td>1.12 EUR</td></tr><tr><td></td><td>USD</td><td>10.22 EUR</td></tr><tr><td></td><td>USD</td><td>0.78 EUR</td></tr><tr><td></td><td>USD</td><td>10.22 EUR</td></tr><tr><td></td><td>USD</td><td>2.83 EUR</td></tr><tr><td></td><td>USD</td><td>2.83 EUR</td></tr><tr><td></td><td>USD</td><td>2.83 EUR</td></tr><tr><td></td><td>USD</td><td>1.47 EUR</td></tr><tr><td></td><td>USD</td><td>0.78 EUR</td></tr></table>"
      ],
      "text/plain": [
       "[['artist', 'currency', 'price'],\n",
       " ['Taylor Swift', 'USD', '14.76 EUR'],\n",
       " ['', 'USD', '11.35 EUR'],\n",
       " ['', 'USD', '2.26 EUR'],\n",
       " ['', 'USD', '2.26 EUR'],\n",
       " ['', 'USD', '2.83 EUR'],\n",
       " ['', 'USD', '1.12 EUR'],\n",
       " ['', 'USD', '1.47 EUR'],\n",
       " ['', 'USD', '1.47 EUR'],\n",
       " ['', 'USD', '11.35 EUR'],\n",
       " ['', 'USD', '1.12 EUR'],\n",
       " ['Katy Perry', 'CHF', '6.52 EUR'],\n",
       " ['', 'CHF', '2.39 EUR'],\n",
       " ['', 'CHF', '17.4 EUR'],\n",
       " ['Katy Perry', 'USD', '1.47 EUR'],\n",
       " ['', 'USD', '1.47 EUR'],\n",
       " ['', 'USD', '2.83 EUR'],\n",
       " ['', 'USD', '2.83 EUR'],\n",
       " ['', 'USD', '1.47 EUR'],\n",
       " ['', 'USD', '1.12 EUR'],\n",
       " ['', 'USD', '12.49 EUR'],\n",
       " ['', 'USD', '9.41 EUR'],\n",
       " ['', 'USD', '1.47 EUR'],\n",
       " ['', 'USD', '10.22 EUR'],\n",
       " ['', 'USD', '3.4 EUR'],\n",
       " ['', 'USD', '2.83 EUR'],\n",
       " ['', 'USD', '1.47 EUR'],\n",
       " ['', 'USD', '11.35 EUR'],\n",
       " ['', 'USD', '1.12 EUR'],\n",
       " ['', 'USD', '10.22 EUR'],\n",
       " ['', 'USD', '0.78 EUR'],\n",
       " ['', 'USD', '10.22 EUR'],\n",
       " ['', 'USD', '2.83 EUR'],\n",
       " ['', 'USD', '2.83 EUR'],\n",
       " ['', 'USD', '2.83 EUR'],\n",
       " ['', 'USD', '1.47 EUR'],\n",
       " ['', 'USD', '0.78 EUR']]"
      ]
     },
     "execution_count": 54,
     "metadata": {},
     "output_type": "execute_result"
    }
   ],
   "source": [
    "cursor = db[playlists].aggregate(pipeline)\n",
    "res = list(cursor)\n",
    "table8 = ListTable()\n",
    "table8.title = \"pricing of releases\"\n",
    "table8.append(['artist', 'currency', 'price'])\n",
    "for l in res:\n",
    "    a, c = l.get('_id'), l.get('currency')\n",
    "    for r in l.get('pricing'): \n",
    "        table8.append([a, c, \"{} EUR\".format(round(r, 2))])\n",
    "        a  = \"\"\n",
    "table8"
   ]
  },
  {
   "cell_type": "code",
   "execution_count": 55,
   "metadata": {
    "collapsed": true
   },
   "outputs": [],
   "source": [
    "# <<<<\n",
    "\n",
    "\n",
    "\n",
    "\n",
    "\n",
    "\n",
    "\n",
    "\n",
    "#"
   ]
  },
  {
   "cell_type": "markdown",
   "metadata": {},
   "source": [
    "## Map Reduce Most Popular Words"
   ]
  },
  {
   "cell_type": "markdown",
   "metadata": {},
   "source": [
    "#### get the most common word in relase titles…"
   ]
  },
  {
   "cell_type": "code",
   "execution_count": 56,
   "metadata": {
    "collapsed": true
   },
   "outputs": [],
   "source": [
    "from bson.code import Code\n",
    "mapper = Code(\"\"\"\n",
    "               function () {\n",
    "                   var words = this.info.name.split(' '); \n",
    "                   for (i in words) {\n",
    "                   var word = words[i].replace(/[^a-z0-9]/gi,\"\");\n",
    "                   if (word.length > 0){\n",
    "                   emit(word.toLowerCase(), 1);\n",
    "                   }\n",
    "                 };\n",
    "               }\n",
    "               \"\"\")"
   ]
  },
  {
   "cell_type": "code",
   "execution_count": 57,
   "metadata": {
    "collapsed": true
   },
   "outputs": [],
   "source": [
    "reducer = Code(\"\"\"\n",
    "                function (key, values) {\n",
    "                  var total = 0;\n",
    "                  for (var i = 0; i < values.length; i++) {\n",
    "                    total += values[i];\n",
    "                  }\n",
    "                  return total;\n",
    "                }\n",
    "                \"\"\")"
   ]
  },
  {
   "cell_type": "code",
   "execution_count": 58,
   "metadata": {
    "collapsed": false
   },
   "outputs": [
    {
     "name": "stdout",
     "output_type": "stream",
     "text": [
      "mape reduce done, took: 0:00:00.132566\n"
     ]
    }
   ],
   "source": [
    "start = datetime.datetime.now()\n",
    "result = db[playlists].map_reduce(mapper, reducer, \"results\")\n",
    "#result = db.playlists.map_reduce(mapper, reducer, \"results\", query={\"info.artistName\": {\"$in\": [artist, nemesis]}})\n",
    "#, query={\"info.artistName\": {\"$in\": [artist, nemesis]}}\n",
    "print(\"mape reduce done, took: {}\".format(datetime.datetime.now() - start))"
   ]
  },
  {
   "cell_type": "code",
   "execution_count": 59,
   "metadata": {
    "collapsed": true
   },
   "outputs": [],
   "source": [
    "# print(result)"
   ]
  },
  {
   "cell_type": "code",
   "execution_count": 60,
   "metadata": {
    "collapsed": false
   },
   "outputs": [
    {
     "data": {
      "text/html": [
       "<h3>most popular words in album titles</h3><table><tr><td>count</td><td>word</td></tr><tr><td>30.0</td><td>dream</td></tr><tr><td>30.0</td><td>teenage</td></tr><tr><td>24.0</td><td>one</td></tr><tr><td>23.0</td><td>version</td></tr><tr><td>21.0</td><td>deluxe</td></tr><tr><td>18.0</td><td>boys</td></tr><tr><td>16.0</td><td>1989</td></tr><tr><td>16.0</td><td>swift</td></tr><tr><td>16.0</td><td>taylor</td></tr><tr><td>14.0</td><td>fearless</td></tr><tr><td>14.0</td><td>speak</td></tr><tr><td>13.0</td><td>karaoke</td></tr><tr><td>12.0</td><td>edition</td></tr><tr><td>11.0</td><td>red</td></tr><tr><td>9.0</td><td>girl</td></tr><tr><td>9.0</td><td>kissed</td></tr><tr><td>9.0</td><td>remix</td></tr><tr><td>9.0</td><td>remixes</td></tr><tr><td>8.0</td><td>live</td></tr><tr><td>8.0</td><td>prism</td></tr><tr><td>7.0</td><td>love</td></tr><tr><td>7.0</td><td>vegas</td></tr><tr><td>7.0</td><td>waking</td></tr><tr><td>6.0</td><td>et</td></tr><tr><td>6.0</td><td>roar</td></tr><tr><td>6.0</td><td>story</td></tr><tr><td>6.0</td><td>tour</td></tr><tr><td>5.0</td><td>bonus</td></tr><tr><td>5.0</td><td>cold</td></tr><tr><td>5.0</td><td>complete</td></tr><tr><td>5.0</td><td>confection</td></tr><tr><td>5.0</td><td>hot</td></tr><tr><td>5.0</td><td>itunes</td></tr><tr><td>5.0</td><td>n</td></tr><tr><td>5.0</td><td>platinum</td></tr><tr><td>5.0</td><td>track</td></tr><tr><td>4.0</td><td>away</td></tr><tr><td>4.0</td><td>cash</td></tr><tr><td>4.0</td><td>exclusive</td></tr><tr><td>4.0</td><td>got</td></tr><tr><td>4.0</td><td>katy</td></tr><tr><td>4.0</td><td>part</td></tr><tr><td>4.0</td><td>perry</td></tr><tr><td>4.0</td><td>world</td></tr><tr><td>3.0</td><td>back</td></tr><tr><td>3.0</td><td>california</td></tr><tr><td>3.0</td><td>collection</td></tr><tr><td>3.0</td><td>fiction</td></tr><tr><td>3.0</td><td>firework</td></tr><tr><td>3.0</td><td>gay</td></tr></table>"
      ],
      "text/plain": [
       "[['count', 'word'],\n",
       " [30.0, 'dream'],\n",
       " [30.0, 'teenage'],\n",
       " [24.0, 'one'],\n",
       " [23.0, 'version'],\n",
       " [21.0, 'deluxe'],\n",
       " [18.0, 'boys'],\n",
       " [16.0, '1989'],\n",
       " [16.0, 'swift'],\n",
       " [16.0, 'taylor'],\n",
       " [14.0, 'fearless'],\n",
       " [14.0, 'speak'],\n",
       " [13.0, 'karaoke'],\n",
       " [12.0, 'edition'],\n",
       " [11.0, 'red'],\n",
       " [9.0, 'girl'],\n",
       " [9.0, 'kissed'],\n",
       " [9.0, 'remix'],\n",
       " [9.0, 'remixes'],\n",
       " [8.0, 'live'],\n",
       " [8.0, 'prism'],\n",
       " [7.0, 'love'],\n",
       " [7.0, 'vegas'],\n",
       " [7.0, 'waking'],\n",
       " [6.0, 'et'],\n",
       " [6.0, 'roar'],\n",
       " [6.0, 'story'],\n",
       " [6.0, 'tour'],\n",
       " [5.0, 'bonus'],\n",
       " [5.0, 'cold'],\n",
       " [5.0, 'complete'],\n",
       " [5.0, 'confection'],\n",
       " [5.0, 'hot'],\n",
       " [5.0, 'itunes'],\n",
       " [5.0, 'n'],\n",
       " [5.0, 'platinum'],\n",
       " [5.0, 'track'],\n",
       " [4.0, 'away'],\n",
       " [4.0, 'cash'],\n",
       " [4.0, 'exclusive'],\n",
       " [4.0, 'got'],\n",
       " [4.0, 'katy'],\n",
       " [4.0, 'part'],\n",
       " [4.0, 'perry'],\n",
       " [4.0, 'world'],\n",
       " [3.0, 'back'],\n",
       " [3.0, 'california'],\n",
       " [3.0, 'collection'],\n",
       " [3.0, 'fiction'],\n",
       " [3.0, 'firework'],\n",
       " [3.0, 'gay']]"
      ]
     },
     "execution_count": 60,
     "metadata": {},
     "output_type": "execute_result"
    }
   ],
   "source": [
    "from operator import itemgetter\n",
    "try:\n",
    "    from nltk.corpus import stopwords \n",
    "    cachedStopWords = stopwords.words(\"english\") + stopwords.words(\"spanish\") + list([str(x) for x in range(10)])\n",
    "except: \n",
    "    cachedStopWords = _stopwords\n",
    "max, i = 50, 0\n",
    "\n",
    "table8 = ListTable()\n",
    "table8.title = \"most popular words in album titles\"\n",
    "table8.append(['count', 'word'])    \n",
    "\n",
    "for doc in sorted([x for x in result.find() if x.get('_id') not in cachedStopWords and x.get('_id') not in [\"single\", \"ep\", \"vol\", \"feat\"]], key=itemgetter('value'), reverse=True):\n",
    "    i += 1\n",
    "    table8.append([doc.get('value'), doc.get('_id')])\n",
    "    if i >= max:\n",
    "        break\n",
    "table8"
   ]
  },
  {
   "cell_type": "code",
   "execution_count": 61,
   "metadata": {
    "collapsed": true
   },
   "outputs": [],
   "source": [
    "# <<<< END\n",
    "\n",
    "\n",
    "\n",
    "\n",
    "\n",
    "\n",
    "\n",
    "\n",
    "#"
   ]
  },
  {
   "cell_type": "markdown",
   "metadata": {},
   "source": [
    "#### alternative: db.collection.group()"
   ]
  },
  {
   "cell_type": "markdown",
   "metadata": {},
   "source": [
    "Uses JavaScript and is subject to a number of performance limitations, see docs for details."
   ]
  },
  {
   "cell_type": "code",
   "execution_count": 62,
   "metadata": {
    "collapsed": false
   },
   "outputs": [
    {
     "name": "stdout",
     "output_type": "stream",
     "text": [
      "[{'info.artistName': 'Taylor Swift', 'count': 93.0}]\n"
     ]
    }
   ],
   "source": [
    "reduce_f = \"function (doc, out) {out.count++;}\"\n",
    "query = {\"info.artistName\": artist}\n",
    "initial = {'count': 0}\n",
    "key = [\"info.artistName\"]\n",
    "res = db[playlists].group(\n",
    "        key=key, \n",
    "        condition=query,\n",
    "        initial=initial,\n",
    "        reduce=reduce_f)\n",
    "print(res)"
   ]
  },
  {
   "cell_type": "markdown",
   "metadata": {},
   "source": [
    "#### bonus: first map reduce example with group() operator"
   ]
  },
  {
   "cell_type": "code",
   "execution_count": 63,
   "metadata": {
    "collapsed": false
   },
   "outputs": [
    {
     "name": "stdout",
     "output_type": "stream",
     "text": [
      "aggregation done, took: 0:00:00.002872\n",
      "found 2 artists\n"
     ]
    },
    {
     "data": {
      "text/html": [
       "\n",
       "                <audio controls=\"controls\" autoplay=\"autoplay\">\n",
       "                    <source src=\"data:audio/mpeg;base64,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\" type=\"audio/mpeg\" />\n",
       "                    Your browser does not support the audio element.\n",
       "                </audio>\n",
       "              "
      ],
      "text/plain": [
       "<IPython.lib.display.Audio object>"
      ]
     },
     "execution_count": 63,
     "metadata": {},
     "output_type": "execute_result"
    }
   ],
   "source": [
    "start = datetime.datetime.now()\n",
    "#\n",
    "pipeline = [\n",
    "    {\"$group\": {\"_id\": \"$info.artistName\"}},\n",
    "    {\"$group\": {\"_id\": None, 'count': {'$sum': 1}}},\n",
    "]\n",
    "res = db[playlists].aggregate(pipeline)\n",
    "#\n",
    "print(\"aggregation done, took: {}\".format(datetime.datetime.now() - start))\n",
    "print(\"found {0:,} artists\".format(list(res)[0].get('count')))\n",
    "# audio-signal when done\n",
    "Audio(\"http://www.trekcore.com/audio/communicator/ent_communicator1.mp3\", autoplay=True)"
   ]
  },
  {
   "cell_type": "code",
   "execution_count": null,
   "metadata": {
    "collapsed": true
   },
   "outputs": [],
   "source": []
  },
  {
   "cell_type": "code",
   "execution_count": null,
   "metadata": {
    "collapsed": true
   },
   "outputs": [],
   "source": []
  }
 ],
 "metadata": {
  "kernelspec": {
   "display_name": "Python 3",
   "language": "python",
   "name": "python3"
  },
  "language_info": {
   "codemirror_mode": {
    "name": "ipython",
    "version": 3
   },
   "file_extension": ".py",
   "mimetype": "text/x-python",
   "name": "python",
   "nbconvert_exporter": "python",
   "pygments_lexer": "ipython3",
   "version": "3.4.3"
  }
 },
 "nbformat": 4,
 "nbformat_minor": 0
}
