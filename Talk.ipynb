{
 "cells": [
  {
   "cell_type": "markdown",
   "metadata": {},
   "source": [
    "# Data Analysis and Map-Reduce with MongoDB and pymongo"
   ]
  },
  {
   "cell_type": "markdown",
   "metadata": {},
   "source": [
    "Alexander Hendorf (@opotoc), MongoDB Days Germany 2015 Munich, MongoDB Days 2015 Silicon Valley San José, PySS15 Ibaeta University San Sebastián, EuroPython 2015 Bilbao"
   ]
  },
  {
   "cell_type": "markdown",
   "metadata": {},
   "source": [
    "The dataset only contains the data for the two artists (207 playlists)"
   ]
  },
  {
   "cell_type": "code",
   "execution_count": null,
   "metadata": {
    "collapsed": true
   },
   "outputs": [],
   "source": [
    "from IPython.display import HTML, Audio\n",
    "from IPython.display import Image\n",
    "import pymongo\n",
    "import datetime\n",
    "from pymongo import ASCENDING, DESCENDING\n",
    "from bson.son import SON\n",
    "from pprint import pprint\n",
    "import json\n",
    "from config import *"
   ]
  },
  {
   "cell_type": "markdown",
   "metadata": {},
   "source": [
    "import pymongo driver, bson, json, some config parameters (e.g. database access) & \n",
    "make database connection"
   ]
  },
  {
   "cell_type": "code",
   "execution_count": null,
   "metadata": {
    "collapsed": true
   },
   "outputs": [],
   "source": [
    "# make sure the database is running (start.sh)!\n",
    "db = pymongo.MongoClient(\"localhost:27017\")['db']\n",
    "playlists = 'playlists'"
   ]
  },
  {
   "cell_type": "markdown",
   "metadata": {},
   "source": [
    "our dataset"
   ]
  },
  {
   "cell_type": "code",
   "execution_count": null,
   "metadata": {
    "collapsed": false
   },
   "outputs": [],
   "source": [
    "count = db[playlists].count()\n",
    "HTML('<p style=\"height:30px\"></p><p style=\"font-size: 36px\">{:,} playlists found.</p><p style=\"height:10px\"></p>'.format(count))"
   ]
  },
  {
   "cell_type": "markdown",
   "metadata": {},
   "source": [
    "# Map Reduce"
   ]
  },
  {
   "cell_type": "code",
   "execution_count": null,
   "metadata": {
    "collapsed": true
   },
   "outputs": [],
   "source": [
    "from bson.code import Code\n",
    "# bson.code is just a tool for representing JavaScript code in BSON"
   ]
  },
  {
   "cell_type": "markdown",
   "metadata": {},
   "source": [
    "#### Map Function"
   ]
  },
  {
   "cell_type": "code",
   "execution_count": null,
   "metadata": {
    "collapsed": true
   },
   "outputs": [],
   "source": [
    "mapper = Code(\"\"\"\n",
    "               function () {\n",
    "                   var artist = this.info.artistName; \n",
    "                   if (artist.length < 100){\n",
    "                       // avoid indexing error in output collection\n",
    "                       emit(artist, 1);\n",
    "                   }\n",
    "               }\n",
    "               \"\"\")"
   ]
  },
  {
   "cell_type": "markdown",
   "metadata": {},
   "source": [
    "#### Reduce Function"
   ]
  },
  {
   "cell_type": "code",
   "execution_count": null,
   "metadata": {
    "collapsed": true
   },
   "outputs": [],
   "source": [
    "reducer = Code(\"\"\"\n",
    "                function (key, values) {\n",
    "                  var total = 0;\n",
    "                  for (var i = 0; i < values.length; i++) {\n",
    "                    total += values[i];\n",
    "                  }\n",
    "                  return total;\n",
    "                }\n",
    "                \"\"\")"
   ]
  },
  {
   "cell_type": "markdown",
   "metadata": {},
   "source": [
    "#### send output to a collection: \"results_collection\"\n",
    "measuring the excecution time and playing a scientific sound when finished"
   ]
  },
  {
   "cell_type": "code",
   "execution_count": null,
   "metadata": {
    "collapsed": false
   },
   "outputs": [],
   "source": [
    "start = datetime.datetime.now()\n",
    "#\n",
    "result = db[playlists].map_reduce(mapper, reducer, \"results_collection\")\n",
    "# fallback: limit query to a company\n",
    "#result = db[playlists].map_reduce(mapper, reducer, \"results_collection\", query={'info.copyrightIndex': 'MOTOWN'})\n",
    "#\n",
    "print(\"mape reduce done, took: {}\".format(datetime.datetime.now() - start))\n",
    "print(\"found {0:,} artists\".format(db['results_collection'].count()))\n",
    "# audio-signal when done\n",
    "Audio(\"http://www.trekcore.com/audio/communicator/ent_communicator1.mp3\", autoplay=True)"
   ]
  },
  {
   "cell_type": "code",
   "execution_count": null,
   "metadata": {
    "collapsed": true
   },
   "outputs": [],
   "source": [
    "# <<<<\n",
    "\n",
    "\n",
    "\n",
    "\n",
    "\n",
    "\n",
    "\n",
    "\n",
    "#"
   ]
  },
  {
   "cell_type": "markdown",
   "metadata": {},
   "source": [
    "# Aggregation Framework"
   ]
  },
  {
   "cell_type": "code",
   "execution_count": null,
   "metadata": {
    "collapsed": false
   },
   "outputs": [],
   "source": [
    "query = {\"info.artistName\": artist}\n",
    "count = db[playlists].count(query)\n",
    "print(\"found {:,} releases for {}\".format(count, artist))"
   ]
  },
  {
   "cell_type": "markdown",
   "metadata": {},
   "source": [
    "### \\$match \\$project"
   ]
  },
  {
   "cell_type": "code",
   "execution_count": null,
   "metadata": {
    "collapsed": true
   },
   "outputs": [],
   "source": [
    "pipeline = [\n",
    "    {\"$match\": {\"info.artistName\": artist}},\n",
    "    {\"$project\": {\"release\": \"$info.name\", \"_id\": 0}},\n",
    "]"
   ]
  },
  {
   "cell_type": "code",
   "execution_count": null,
   "metadata": {
    "collapsed": false
   },
   "outputs": [],
   "source": [
    "res = db[playlists].aggregate(pipeline)\n",
    "print(\"\\n found {} document\\n\".format(len(list(res))))"
   ]
  },
  {
   "cell_type": "code",
   "execution_count": null,
   "metadata": {
    "collapsed": false
   },
   "outputs": [],
   "source": [
    "# let's hav a look at our dataset\n",
    "print(list(res))\n",
    "#\n",
    "Image(filename='pic/boom.jpg')"
   ]
  },
  {
   "cell_type": "code",
   "execution_count": null,
   "metadata": {
    "collapsed": false
   },
   "outputs": [],
   "source": [
    "cursor = db[playlists].aggregate(pipeline)\n",
    "print(list(cursor))"
   ]
  },
  {
   "cell_type": "code",
   "execution_count": null,
   "metadata": {
    "collapsed": false
   },
   "outputs": [],
   "source": [
    "cursor = db[playlists].aggregate(pipeline)\n",
    "# output as HTML table\n",
    "table = ListTable()\n",
    "table.title = \"releases of {}\".format(artist)\n",
    "table.append(['position', 'release'])\n",
    "for i, l in enumerate(cursor, 1):\n",
    "    table.append([i, l['release']])\n",
    "table"
   ]
  },
  {
   "cell_type": "code",
   "execution_count": null,
   "metadata": {
    "collapsed": true
   },
   "outputs": [],
   "source": [
    "# <<<<\n",
    "\n",
    "\n",
    "\n",
    "\n",
    "\n",
    "\n",
    "\n",
    "\n",
    "#"
   ]
  },
  {
   "cell_type": "markdown",
   "metadata": {},
   "source": [
    "###  $group"
   ]
  },
  {
   "cell_type": "markdown",
   "metadata": {},
   "source": [
    "\n",
    "\n",
    "\n",
    "\n",
    "\n"
   ]
  },
  {
   "cell_type": "code",
   "execution_count": null,
   "metadata": {
    "collapsed": true
   },
   "outputs": [],
   "source": [
    "pipeline = [\n",
    "    {\"$match\": {\"info.artistName\": artist}},\n",
    "    \n",
    "    {\"$group\": {\n",
    "       \"_id\": \"$info.name\",\n",
    "       \"count\": {\"$sum\": 1}}},\n",
    "   \n",
    "    {\"$project\": {\"release\": \"$_id\", \"_id\": 0, \"count\": 1}},\n",
    "    {\"$sort\": {\"release\": ASCENDING}}\n",
    "]"
   ]
  },
  {
   "cell_type": "code",
   "execution_count": null,
   "metadata": {
    "collapsed": false
   },
   "outputs": [],
   "source": [
    "cursor = db[playlists].aggregate(pipeline)\n",
    "table2 = ListTable()\n",
    "table2.title = \"duplicate releases of {}\".format(artist)\n",
    "table2.append(['count', 'release'])\n",
    "for l in cursor:\n",
    "    table2.append([l.get('count'), l.get('release')])\n",
    "table2"
   ]
  },
  {
   "cell_type": "markdown",
   "metadata": {},
   "source": [
    "###  \\$group - \\$sort -  \\$limit"
   ]
  },
  {
   "cell_type": "code",
   "execution_count": null,
   "metadata": {
    "collapsed": true
   },
   "outputs": [],
   "source": [
    "pipeline = [\n",
    "    {\"$match\": {\"info.artistName\": artist}},\n",
    "    {\"$group\": {\n",
    "        \"_id\": \"$info.name\",\n",
    "        \"count\": {\"$sum\": 1}\n",
    "    }},\n",
    "    {\"$project\": {\"release\": \"$_id\", \"count\": 1, \"_id\": 0}},\n",
    "    \n",
    "#   {\"$sort\": {\"count\": DESCENDING, \"release\": ASCENDING}},\n",
    "    {\"$sort\": {\"release\": ASCENDING, \"count\": DESCENDING}},\n",
    "\n",
    "    {\"$limit\": 10},\n",
    "    \n",
    "]"
   ]
  },
  {
   "cell_type": "code",
   "execution_count": null,
   "metadata": {
    "collapsed": false
   },
   "outputs": [],
   "source": [
    "cursor = db[playlists].aggregate(pipeline)\n",
    "table3 = ListTable()\n",
    "table3.title = \"top duplicate releases of {}\".format(artist)\n",
    "table3.append(['count', 'release'])\n",
    "for l in cursor:\n",
    "    table3.append([l.get('count'), l.get('release')])\n",
    "table3"
   ]
  },
  {
   "cell_type": "markdown",
   "metadata": {},
   "source": [
    "#### mind the sort datatype"
   ]
  },
  {
   "cell_type": "code",
   "execution_count": null,
   "metadata": {
    "collapsed": true
   },
   "outputs": [],
   "source": [
    "pipeline = [\n",
    "    {\"$match\": {\"info.artistName\": artist}},\n",
    "    {\"$group\": {\n",
    "        \"_id\": \"$info.name\",\n",
    "        \"count\": {\"$sum\": 1}\n",
    "    }},\n",
    "    {\"$project\": {\"release\": \"$_id\", \"count\": \"$count\", \"_id\": 0}},\n",
    "    # caveat sort order: use collections.OrderDict or bson.SON!\n",
    "   {\"$sort\": SON([(\"release\", ASCENDING),(\"count\", DESCENDING)])},\n",
    "#    {\"$sort\": SON([(\"count\", DESCENDING), (\"release\", ASCENDING)])},\n",
    "\n",
    "    {\"$limit\": 10},\n",
    "]"
   ]
  },
  {
   "cell_type": "code",
   "execution_count": null,
   "metadata": {
    "collapsed": false
   },
   "outputs": [],
   "source": [
    "cursor = db[playlists].aggregate(pipeline)\n",
    "table3 = ListTable()\n",
    "table3.title = \"top duplicate releases of {}\".format(artist)\n",
    "table3.append(['count', 'release'])\n",
    "for l in cursor:\n",
    "    table3.append([l.get('count'), l.get('release')])\n",
    "table3"
   ]
  },
  {
   "cell_type": "code",
   "execution_count": null,
   "metadata": {
    "collapsed": true
   },
   "outputs": [],
   "source": [
    "# <<<<\n",
    "\n",
    "\n",
    "\n",
    "\n",
    "\n",
    "\n",
    "\n",
    "\n",
    "#"
   ]
  },
  {
   "cell_type": "markdown",
   "metadata": {},
   "source": [
    "### $unwind"
   ]
  },
  {
   "cell_type": "code",
   "execution_count": null,
   "metadata": {
    "collapsed": true
   },
   "outputs": [],
   "source": [
    "# aggregate information in subdocuments\n",
    "# get all the songs\n",
    "pipeline = [\n",
    "    {\"$match\": {\"info.artistName\": artist}},\n",
    "    \n",
    "    \n",
    "    {\"$unwind\": \"$info.children\"},\n",
    "    \n",
    "    \n",
    "    {\"$group\": {\n",
    "        \"_id\": \"$info.children.name\"\n",
    "    }},\n",
    "    {\"$project\": {\"song\": \"$_id\", \"_id\": 0}},\n",
    "    {\"$sort\": SON([(\"song\", ASCENDING)])},\n",
    "]"
   ]
  },
  {
   "cell_type": "code",
   "execution_count": null,
   "metadata": {
    "collapsed": false
   },
   "outputs": [],
   "source": [
    "cursor = db[playlists].aggregate(pipeline)\n",
    "table3 = ListTable()\n",
    "table3.title = \"songs of {}\".format(artist)\n",
    "table3.append(['position', 'release'])\n",
    "for i, l in enumerate(cursor, 1):\n",
    "    table3.append([i, l.get('song')])\n",
    "table3"
   ]
  },
  {
   "cell_type": "markdown",
   "metadata": {},
   "source": [
    "#### inner mechanics of $unwind"
   ]
  },
  {
   "cell_type": "code",
   "execution_count": null,
   "metadata": {
    "collapsed": true
   },
   "outputs": [],
   "source": [
    "pipeline = [\n",
    "    {\"$match\": {\"info.artistName\": artist}},\n",
    "    {\"$limit\": 1},\n",
    "    {\"$unwind\": \"$info.children\"},\n",
    "    {\"$project\": {\"adamId\": 1, \"info.name\": 1, \"info.children.name\": 1, \"_id\": 0}}\n",
    "]"
   ]
  },
  {
   "cell_type": "code",
   "execution_count": null,
   "metadata": {
    "collapsed": false
   },
   "outputs": [],
   "source": [
    "cursor = db[playlists].aggregate(pipeline)\n",
    "r = list(cursor)\n",
    "pprint(r)\n",
    "print(\"found {:,} documents\".format(len(r)))"
   ]
  },
  {
   "cell_type": "code",
   "execution_count": null,
   "metadata": {
    "collapsed": true
   },
   "outputs": [],
   "source": [
    "# <<<<\n",
    "\n",
    "\n",
    "\n",
    "\n",
    "\n",
    "\n",
    "\n",
    "\n",
    "#"
   ]
  },
  {
   "cell_type": "markdown",
   "metadata": {},
   "source": [
    "## Accumlators"
   ]
  },
  {
   "cell_type": "markdown",
   "metadata": {},
   "source": [
    "### \\$min & \\$max"
   ]
  },
  {
   "cell_type": "code",
   "execution_count": null,
   "metadata": {
    "collapsed": true
   },
   "outputs": [],
   "source": [
    "pipeline = [\n",
    "    {\"$match\": {\"info.artistName\": artist}},\n",
    "    \n",
    "    \n",
    "    {\"$group\": {\n",
    "        \"_id\": '',\n",
    "        \"minDate\": {\"$min\": \"$info.releaseDateEpoch\"},\n",
    "        \"maxDate\": {\"$max\": \"$info.releaseDateEpoch\"}\n",
    "    }},\n",
    "    \n",
    "    \n",
    "    {\"$project\": {\"_id\": 0, \"minDate\": 1, \"maxDate\": 1}}\n",
    "]"
   ]
  },
  {
   "cell_type": "code",
   "execution_count": null,
   "metadata": {
    "collapsed": false
   },
   "outputs": [],
   "source": [
    "cursor = db[playlists].aggregate(pipeline)\n",
    "print(\"release period of {}\".format(artist))\n",
    "pprint(list(cursor))"
   ]
  },
  {
   "cell_type": "code",
   "execution_count": null,
   "metadata": {
    "collapsed": true
   },
   "outputs": [],
   "source": []
  },
  {
   "cell_type": "markdown",
   "metadata": {},
   "source": [
    "### \\$first & \\$last"
   ]
  },
  {
   "cell_type": "markdown",
   "metadata": {},
   "source": [
    "Returns the value that results from applying an **expression** to the first document in a group of documents that share the same group by key."
   ]
  },
  {
   "cell_type": "code",
   "execution_count": null,
   "metadata": {
    "collapsed": true
   },
   "outputs": [],
   "source": [
    "pipeline = [\n",
    "    {\"$match\": {\"info.artistName\": artist}},\n",
    "    \n",
    "    {\"$sort\": SON([(\"info.releaseDate\", ASCENDING)])},  \n",
    "    {\"$group\": {\n",
    "        \"_id\": \"\",\n",
    "        \"minDate\": {\"$first\": \"$info.releaseDate\"},\n",
    "        \"maxDate\": {\"$last\": \"$info.releaseDate\"},\n",
    "    }},\n",
    "    \n",
    "    \n",
    "    {\"$project\": {\"_id\": 0, \"minDate\": 1, \"maxDate\": 1}}\n",
    "]"
   ]
  },
  {
   "cell_type": "code",
   "execution_count": null,
   "metadata": {
    "collapsed": false
   },
   "outputs": [],
   "source": [
    "cursor = db[playlists].aggregate(pipeline)\n",
    "print(\"\\n\\nrelease period of {}\".format(artist))\n",
    "pprint(list(cursor))"
   ]
  },
  {
   "cell_type": "code",
   "execution_count": null,
   "metadata": {
    "collapsed": true
   },
   "outputs": [],
   "source": [
    "pipeline = [\n",
    "    {\"$match\": {\"info.artistName\": artist}},\n",
    "    \n",
    "    {\"$sort\": SON([(\"info.releaseDate\", ASCENDING)])},  \n",
    "    {\"$group\": {\n",
    "        \"_id\": \"\",\n",
    "        \"minYear\": {\"$first\": {\"$year\": \"$info.releaseDateEpoch\"}},\n",
    "        \"maxYear\": {\"$last\":  {\"$year\": \"$info.releaseDateEpoch\"}},\n",
    "    }},\n",
    "    \n",
    "    \n",
    "    {\"$project\": {\"_id\": 0, \"minYear\": 1, \"maxYear\": 1}}\n",
    "]"
   ]
  },
  {
   "cell_type": "code",
   "execution_count": null,
   "metadata": {
    "collapsed": false
   },
   "outputs": [],
   "source": [
    "cursor = db[playlists].aggregate(pipeline)\n",
    "print(\"release period of {}\".format(artist))\n",
    "pprint(list(cursor))"
   ]
  },
  {
   "cell_type": "markdown",
   "metadata": {},
   "source": [
    "##  Operators"
   ]
  },
  {
   "cell_type": "markdown",
   "metadata": {},
   "source": [
    "### date operators"
   ]
  },
  {
   "cell_type": "code",
   "execution_count": null,
   "metadata": {
    "collapsed": true
   },
   "outputs": [],
   "source": [
    "pipeline = [\n",
    "    {\"$match\": {\"info.artistName\": artist}},\n",
    "    \n",
    "    \n",
    "    {\"$group\": {\n",
    "        \"_id\": {\"$year\": \"$info.releaseDateEpoch\"},\n",
    "        \"count\": {\"$sum\": 1}\n",
    "    }},\n",
    "    \n",
    "    \n",
    "    {\"$project\": {\"year\": \"$_id\", \"_id\": 0, \"count\": 1}},\n",
    "    {\"$sort\": SON([(\"year\", DESCENDING)])}\n",
    "]"
   ]
  },
  {
   "cell_type": "code",
   "execution_count": null,
   "metadata": {
    "collapsed": false
   },
   "outputs": [],
   "source": [
    "cursor = db[playlists].aggregate(pipeline)\n",
    "table4 = ListTable()\n",
    "table4.title = \"count of releases by year of {}\".format(artist)\n",
    "table4.append(['year', 'count'])\n",
    "for l in cursor:\n",
    "    table4.append([l.get('year'), l.get('count')])\n",
    "table4"
   ]
  },
  {
   "cell_type": "code",
   "execution_count": null,
   "metadata": {
    "collapsed": true
   },
   "outputs": [],
   "source": []
  },
  {
   "cell_type": "code",
   "execution_count": null,
   "metadata": {
    "collapsed": true
   },
   "outputs": [],
   "source": [
    "pipeline = [\n",
    "    {\"$match\": {\"info.artistName\": artist}},\n",
    "    \n",
    "    \n",
    "    {\"$group\": {\n",
    "        \"_id\": {\"year\": {\"$year\": \"$info.releaseDateEpoch\"},\n",
    "               \"month\": {\"$month\": \"$info.releaseDateEpoch\"}},\n",
    "        \"count\": {\"$sum\": 1}\n",
    "    }},\n",
    "    \n",
    "    \n",
    "    {\"$project\": {\"year\": \"$_id.year\",\"month\": \"$_id.month\", \"_id\": 0, \"count\": 1}},\n",
    "    {\"$sort\": SON([(\"year\", DESCENDING), (\"month\", DESCENDING)])}\n",
    "]"
   ]
  },
  {
   "cell_type": "code",
   "execution_count": null,
   "metadata": {
    "collapsed": false
   },
   "outputs": [],
   "source": [
    "cursor = db[playlists].aggregate(pipeline)\n",
    "table5 = ListTable()\n",
    "table5.title = \"count of releases by month/year of {}\".format(artist)\n",
    "table5.append(['year', 'month', 'count'])\n",
    "for l in cursor:\n",
    "    table5.append([l.get('year'), l.get('month'), l.get('count')])\n",
    "table5"
   ]
  },
  {
   "cell_type": "code",
   "execution_count": null,
   "metadata": {
    "collapsed": true
   },
   "outputs": [],
   "source": [
    "# <<<<\n",
    "\n",
    "\n",
    "\n",
    "\n",
    "\n",
    "\n",
    "\n",
    "\n",
    "#"
   ]
  },
  {
   "cell_type": "markdown",
   "metadata": {},
   "source": [
    "# -"
   ]
  },
  {
   "cell_type": "markdown",
   "metadata": {},
   "source": [
    "### $in"
   ]
  },
  {
   "cell_type": "code",
   "execution_count": null,
   "metadata": {
    "collapsed": true
   },
   "outputs": [],
   "source": [
    "nemesis = \"Katy Perry\"  # arch enemy"
   ]
  },
  {
   "cell_type": "code",
   "execution_count": null,
   "metadata": {
    "collapsed": true
   },
   "outputs": [],
   "source": [
    "pipeline = [\n",
    "    {\"$match\": {\"info.artistName\": {\"$in\": [artist, nemesis]}}},\n",
    "    {\"$unwind\": \"$info.children\"},\n",
    "    {\"$group\": {\n",
    "        \"_id\": {\"artist\": '$info.artistName', \"song\": \"$info.children.name\"},\n",
    "        \"minDate\": {\"$min\": \"$info.releaseDateEpoch\"},\n",
    "        \"maxDate\": {\"$max\": \"$info.releaseDateEpoch\"},\n",
    "    }},\n",
    "    # artist\n",
    "    {\"$group\": {\"_id\": \"$_id.artist\",\n",
    "                \"minDate\": {\"$min\": \"$minDate\"},\n",
    "                \"maxDate\": {\"$max\": \"$maxDate\"},\n",
    "                \"songCount\": {\"$sum\": 1}\n",
    "                }},\n",
    "    # just renaming attributes\n",
    "    {\"$project\": {\"maxDate\": 1, \"minDate\": 1, \"releaseCount\": 1, \"songCount\": 1,\n",
    "                  \"artist\": \"$_id\", \"_id\": 0}}\n",
    "]"
   ]
  },
  {
   "cell_type": "code",
   "execution_count": null,
   "metadata": {
    "collapsed": false
   },
   "outputs": [],
   "source": [
    "cursor = db[playlists].aggregate(pipeline)\n",
    "print(\"\\n\\n active period\")\n",
    "pprint(list(cursor))"
   ]
  },
  {
   "cell_type": "code",
   "execution_count": null,
   "metadata": {
    "collapsed": true
   },
   "outputs": [],
   "source": []
  },
  {
   "cell_type": "markdown",
   "metadata": {},
   "source": [
    "### $avg"
   ]
  },
  {
   "cell_type": "code",
   "execution_count": null,
   "metadata": {
    "collapsed": true
   },
   "outputs": [],
   "source": [
    "pipeline = [\n",
    "    \n",
    "    {\"$match\": {\"info.artistName\": {\"$in\": [artist, nemesis]}}},\n",
    "    \n",
    "    {\"$unwind\": \"$info.children\"},\n",
    "    {\"$unwind\": \"$info.children.offers\"},\n",
    "    {\"$unwind\": \"$info.children.offers.assets\"},\n",
    "    \n",
    "    # some cleanup of outliers, don't worrry about it\n",
    "    {\"$match\": {\"info.children.offers.assets.duration\": {\"$gt\": 30}}},\n",
    "    {\"$group\": {\"_id\": \"$info.artistName\",\n",
    "                \"playtime\": {\"$avg\": \"$info.children.offers.assets.duration\"},\n",
    "                }},\n",
    "    # just renaming attributes\n",
    "    {\"$project\": {\"artist\": \"$_id\", \"_id\": 0,\n",
    "                  \"playtime\": {\"$subtract\": [\"$playtime\", {\"$mod\": [\"$playtime\", 1]}]}}}\n",
    "]"
   ]
  },
  {
   "cell_type": "code",
   "execution_count": null,
   "metadata": {
    "collapsed": false
   },
   "outputs": [],
   "source": [
    "cursor = db[playlists].aggregate(pipeline)\n",
    "print(\"\\n\\n average playtimes\")\n",
    "pprint(list(cursor))"
   ]
  },
  {
   "cell_type": "code",
   "execution_count": null,
   "metadata": {
    "collapsed": true
   },
   "outputs": [],
   "source": [
    "# <<<<\n",
    "\n",
    "\n",
    "\n",
    "\n",
    "\n",
    "\n",
    "\n",
    "\n",
    "#"
   ]
  },
  {
   "cell_type": "markdown",
   "metadata": {},
   "source": [
    "### string operations"
   ]
  },
  {
   "cell_type": "code",
   "execution_count": null,
   "metadata": {
    "collapsed": true
   },
   "outputs": [],
   "source": [
    "pipeline = [\n",
    "    {\"$match\": {\"info.artistName\": {\"$in\": [artist, nemesis]}}},\n",
    "    {\"$unwind\": \"$info.offers\"},\n",
    "    \n",
    "    \n",
    "    {\"$project\": {\"info.offers.price\": 1, \"info.offers.priceFormatted\": 1, \n",
    "                  \"artist\": \"$info.artistName\",\n",
    "                  \"product\": \"$info.name\",\n",
    "                  # isUSD compare if substring is usd\n",
    "                  \"isUSD\": {\"$cmp\": [\n",
    "                    {\"$toLower\": {\"$substr\": [\"$info.offers.priceFormatted\", 0, 3]}},\n",
    "                    \"usd\"]\n",
    "                           }}},\n",
    "    # $cmp returns -1 / 0 / 1 less / equal / greater, $eq also possible\n",
    "    {\"$match\": {\"isUSD\": 0}},\n",
    "    \n",
    "    \n",
    "    {\"$group\": {\n",
    "        \"_id\": {\"artist\": \"$artist\"},\n",
    "        \"releases\": {\"$push\": {\"price\": \"$info.offers.price\", \"product\": \"$product\"}}\n",
    "    }},\n",
    "    {\"$project\": {\"artist\": \"$_id.artist\", \"_id\": 0, \"releases\": 1}}\n",
    "]"
   ]
  },
  {
   "cell_type": "code",
   "execution_count": null,
   "metadata": {
    "collapsed": false
   },
   "outputs": [],
   "source": [
    "cursor = db[playlists].aggregate(pipeline)\n",
    "res = list(cursor)\n",
    "table6 = ListTable()\n",
    "table6.title = \"pricing of releases\"\n",
    "table6.append(['artist', 'product', 'currency', 'price'])\n",
    "for l in res:\n",
    "    a = l.get('artist')\n",
    "    for r in l.get('releases'): \n",
    "        table6.append([a, r.get('product')[:80], \"$\", r.get('price')])\n",
    "        a  = \"\"\n",
    "table6"
   ]
  },
  {
   "cell_type": "code",
   "execution_count": null,
   "metadata": {
    "collapsed": true
   },
   "outputs": [],
   "source": [
    "# <<<<\n",
    "\n",
    "\n",
    "\n",
    "\n",
    "\n",
    "\n",
    "\n",
    "\n",
    "#"
   ]
  },
  {
   "cell_type": "markdown",
   "metadata": {},
   "source": [
    "### $map"
   ]
  },
  {
   "cell_type": "code",
   "execution_count": null,
   "metadata": {
    "collapsed": true
   },
   "outputs": [],
   "source": [
    "# first: look on the data array we use $map on\n",
    "pipeline = [\n",
    "    {\"$match\": {\"info.artistName\": {\"$in\": [artist, nemesis]}}},\n",
    "    {\"$unwind\": \"$info.offers\"},  \n",
    "    {\"$project\": {\"info.offers.price\": 1, \"info.offers.priceFormatted\": 1, \n",
    "                  \"artist\": \"$info.artistName\",\n",
    "                  \"product\": \"$info.name\",\n",
    "                  # isUSD compare if substring is usd\n",
    "                  \"isUSD\": {\"$cmp\": [\n",
    "                    {\"$toLower\": {\"$substr\": [\"$info.offers.priceFormatted\", 0, 3]}},\n",
    "                    \"usd\"]}}},\n",
    "    {\"$match\": {\"isUSD\": 0}},\n",
    "\n",
    "    {\"$group\": {\n",
    "        \"_id\": \"$artist\",\n",
    "        \"pricing\": {\"$push\": \"$info.offers.price\"}\n",
    "    }} \n",
    "]"
   ]
  },
  {
   "cell_type": "code",
   "execution_count": null,
   "metadata": {
    "collapsed": false
   },
   "outputs": [],
   "source": [
    "cursor = db[playlists].aggregate(pipeline)\n",
    "res = list(cursor)\n",
    "for a in res:\n",
    "    print(a['_id'])\n",
    "    print(a['pricing'])"
   ]
  },
  {
   "cell_type": "code",
   "execution_count": null,
   "metadata": {
    "collapsed": true
   },
   "outputs": [],
   "source": [
    "# exchange rate\n",
    "eur_dollar_exchange_rate = 0.88\n",
    "\n",
    "pipeline = [\n",
    "    {\"$match\": {\"info.artistName\": {\"$in\": [artist, nemesis]}}},\n",
    "    {\"$unwind\": \"$info.offers\"},  \n",
    "    {\"$project\": {\"info.offers.price\": 1, \"info.offers.priceFormatted\": 1, \n",
    "                  \"artist\": \"$info.artistName\",\n",
    "                  \"product\": \"$info.name\",\n",
    "                  # isUSD compare if substring is usd\n",
    "                  \"isUSD\": {\"$cmp\": [\n",
    "                    {\"$toLower\": {\"$substr\": [\"$info.offers.priceFormatted\", 0, 3]}},\n",
    "                    \"usd\"]}}},\n",
    "    {\"$match\": {\"isUSD\": 0}},\n",
    "\n",
    "    {\"$group\": {\n",
    "        \"_id\": \"$artist\",\n",
    "        \"pricing\": {\"$push\": \"$info.offers.price\"}\n",
    "    }},\n",
    "    {\"$project\": {\n",
    "        \"pricing\": {\"$map\": {\"input\": \"$pricing\",\n",
    "                                         \"as\": \"value\",\n",
    "                                         \"in\": {\"$multiply\": [\"$$value\",\n",
    "                                                         eur_dollar_exchange_rate\n",
    "                                                         ]}}}}},\n",
    "]"
   ]
  },
  {
   "cell_type": "code",
   "execution_count": null,
   "metadata": {
    "collapsed": false
   },
   "outputs": [],
   "source": [
    "cursor = db[playlists].aggregate(pipeline)\n",
    "res = list(cursor)\n",
    "table7 = ListTable()\n",
    "table7.title = \"pricing of releases\"\n",
    "table7.append(['artist', 'currency', 'price'])\n",
    "for l in res:\n",
    "    a = l.get('_id')\n",
    "    for r in l.get('pricing'): \n",
    "        table7.append([a, \"€\", round(r, 3)])\n",
    "        a  = \"\"\n",
    "table7"
   ]
  },
  {
   "cell_type": "code",
   "execution_count": null,
   "metadata": {
    "collapsed": false
   },
   "outputs": [],
   "source": [
    "server_version = db.client.server_info()\n",
    "server_version"
   ]
  },
  {
   "cell_type": "code",
   "execution_count": null,
   "metadata": {
    "collapsed": false
   },
   "outputs": [],
   "source": [
    "if server_version.get('versionArray')[0] == 3 and server_version.get('versionArray')[1] >= 2:\n",
    "    pipeline = [\n",
    "        {\"$match\": {\"info.artistName\": {\"$in\": [artist, nemesis]}}},\n",
    "        {\"$unwind\": \"$info.offers\"},\n",
    "        {\"$project\": {\"info.offers.price\": 1, \"info.offers.priceFormatted\": 1,\n",
    "                      \"artist\": \"$info.artistName\",\n",
    "                      \"product\": \"$info.name\",\n",
    "                      \"currency\": {\"$toUpper\": {\"$substr\": [\"$info.offers.priceFormatted\", 0, 3]}}}},\n",
    "        # get most current exchanges rate by $lookup\n",
    "        {\"$lookup\": {\n",
    "            \"from\": \"exchangerates\",  # collection to join\n",
    "            \"localField\": \"currency\",  # field from the input documents\n",
    "            \"foreignField\": \"_id\",  # field from the documents of the \"from\" collection\n",
    "            \"as\": \"exchangeRate\"\n",
    "        }},\n",
    "        \n",
    "        {\"$match\": {\"exchangeRate\": {\"$size\": 1}}},  # filter \n",
    "\n",
    "        {\"$group\": {\n",
    "            \"_id\": {\"artist\": \"$artist\", \"currency\": \"$currency\"},\n",
    "            \"pricing\": {\"$push\": \"$info.offers.price\"},\n",
    "            \"rate\": {\"$first\": \"$exchangeRate.rate\"}}},        \n",
    "        \n",
    "        {\"$project\": {\n",
    "                \"_id\": \"$_id.artist\", \n",
    "                \"currency\": \"$_id.currency\", \n",
    "                \"pricing\": {\"$map\": {\"input\": \"$pricing\",\n",
    "                                         \"as\": \"value\",\n",
    "                                         \"in\": {\"$multiply\": [\"$$value\",\n",
    "                                                         {\"$arrayElemAt\": [\"$rate\", 0]}  # rate: [float], $unwind\n",
    "                                                         ]}}} }}\n",
    "    ]\n",
    "else:\n",
    "    print(\"This feature requires mongoDB 3.2+\")"
   ]
  },
  {
   "cell_type": "code",
   "execution_count": null,
   "metadata": {
    "collapsed": false
   },
   "outputs": [],
   "source": [
    "if server_version.get('versionArray')[0] == 3 and server_version.get('versionArray')[1] >= 2:\n",
    "    cursor = db[playlists].aggregate(pipeline)\n",
    "    res = list(cursor)\n",
    "    table8 = ListTable()\n",
    "    table8.title = \"pricing of releases\"\n",
    "    table8.append(['artist', 'currency', 'price'])\n",
    "    for l in res:\n",
    "        a, c = l.get('_id'), l.get('currency')\n",
    "        for r in l.get('pricing'): \n",
    "            table8.append([a, c, \"{} EUR\".format(round(r, 2))])\n",
    "            a  = \"\"\n",
    "    table8\n",
    "else:\n",
    "    print(\"This feature requires mongoDB 3.2+\")"
   ]
  },
  {
   "cell_type": "code",
   "execution_count": null,
   "metadata": {
    "collapsed": true
   },
   "outputs": [],
   "source": [
    "# <<<<\n",
    "\n",
    "\n",
    "\n",
    "\n",
    "\n",
    "\n",
    "\n",
    "\n",
    "#"
   ]
  },
  {
   "cell_type": "markdown",
   "metadata": {},
   "source": [
    "## Map Reduce Most Popular Words"
   ]
  },
  {
   "cell_type": "markdown",
   "metadata": {},
   "source": [
    "#### get the most common word in relase titles…"
   ]
  },
  {
   "cell_type": "code",
   "execution_count": null,
   "metadata": {
    "collapsed": true
   },
   "outputs": [],
   "source": [
    "from bson.code import Code\n",
    "mapper = Code(\"\"\"\n",
    "               function () {\n",
    "                   var words = this.info.name.split(' '); \n",
    "                   for (i in words) {\n",
    "                   var word = words[i].replace(/[^a-z0-9]/gi,\"\");\n",
    "                   if (word.length > 0){\n",
    "                   emit(word.toLowerCase(), 1);\n",
    "                   }\n",
    "                 };\n",
    "               }\n",
    "               \"\"\")"
   ]
  },
  {
   "cell_type": "code",
   "execution_count": null,
   "metadata": {
    "collapsed": true
   },
   "outputs": [],
   "source": [
    "reducer = Code(\"\"\"\n",
    "                function (key, values) {\n",
    "                  var total = 0;\n",
    "                  for (var i = 0; i < values.length; i++) {\n",
    "                    total += values[i];\n",
    "                  }\n",
    "                  return total;\n",
    "                }\n",
    "                \"\"\")"
   ]
  },
  {
   "cell_type": "code",
   "execution_count": null,
   "metadata": {
    "collapsed": false
   },
   "outputs": [],
   "source": [
    "start = datetime.datetime.now()\n",
    "result = db[playlists].map_reduce(mapper, reducer, \"results\")\n",
    "#result = db.playlists.map_reduce(mapper, reducer, \"results\", query={\"info.artistName\": {\"$in\": [artist, nemesis]}})\n",
    "#, query={\"info.artistName\": {\"$in\": [artist, nemesis]}}\n",
    "print(\"mape reduce done, took: {}\".format(datetime.datetime.now() - start))"
   ]
  },
  {
   "cell_type": "code",
   "execution_count": null,
   "metadata": {
    "collapsed": true
   },
   "outputs": [],
   "source": [
    "# print(result)"
   ]
  },
  {
   "cell_type": "code",
   "execution_count": null,
   "metadata": {
    "collapsed": false
   },
   "outputs": [],
   "source": [
    "from operator import itemgetter\n",
    "try:\n",
    "    from nltk.corpus import stopwords \n",
    "    cachedStopWords = stopwords.words(\"english\") + stopwords.words(\"spanish\") + list([str(x) for x in range(10)])\n",
    "except: \n",
    "    cachedStopWords = _stopwords\n",
    "max, i = 50, 0\n",
    "\n",
    "table8 = ListTable()\n",
    "table8.title = \"most popular words in album titles\"\n",
    "table8.append(['count', 'word'])    \n",
    "\n",
    "for doc in sorted([x for x in result.find() if x.get('_id') not in cachedStopWords and x.get('_id') not in [\"single\", \"ep\", \"vol\", \"feat\"]], key=itemgetter('value'), reverse=True):\n",
    "    i += 1\n",
    "    table8.append([doc.get('value'), doc.get('_id')])\n",
    "    if i >= max:\n",
    "        break\n",
    "table8"
   ]
  },
  {
   "cell_type": "code",
   "execution_count": null,
   "metadata": {
    "collapsed": true
   },
   "outputs": [],
   "source": [
    "# <<<< END\n",
    "\n",
    "\n",
    "\n",
    "\n",
    "\n",
    "\n",
    "\n",
    "\n",
    "#"
   ]
  },
  {
   "cell_type": "markdown",
   "metadata": {},
   "source": [
    "#### alternative: db.collection.group()"
   ]
  },
  {
   "cell_type": "markdown",
   "metadata": {},
   "source": [
    "Uses JavaScript and is subject to a number of performance limitations, see docs for details."
   ]
  },
  {
   "cell_type": "code",
   "execution_count": null,
   "metadata": {
    "collapsed": false
   },
   "outputs": [],
   "source": [
    "reduce_f = \"function (doc, out) {out.count++;}\"\n",
    "query = {\"info.artistName\": artist}\n",
    "initial = {'count': 0}\n",
    "key = [\"info.artistName\"]\n",
    "res = db[playlists].group(\n",
    "        key=key, \n",
    "        condition=query,\n",
    "        initial=initial,\n",
    "        reduce=reduce_f)\n",
    "print(res)"
   ]
  },
  {
   "cell_type": "markdown",
   "metadata": {},
   "source": [
    "#### bonus: first map reduce example with group() operator"
   ]
  },
  {
   "cell_type": "code",
   "execution_count": null,
   "metadata": {
    "collapsed": false
   },
   "outputs": [],
   "source": [
    "start = datetime.datetime.now()\n",
    "#\n",
    "pipeline = [\n",
    "    {\"$group\": {\"_id\": \"$info.artistName\"}},\n",
    "    {\"$group\": {\"_id\": None, 'count': {'$sum': 1}}},\n",
    "]\n",
    "res = db[playlists].aggregate(pipeline)\n",
    "#\n",
    "print(\"aggregation done, took: {}\".format(datetime.datetime.now() - start))\n",
    "print(\"found {0:,} artists\".format(list(res)[0].get('count')))\n",
    "# audio-signal when done\n",
    "Audio(\"http://www.trekcore.com/audio/communicator/ent_communicator1.mp3\", autoplay=True)"
   ]
  },
  {
   "cell_type": "code",
   "execution_count": null,
   "metadata": {
    "collapsed": true
   },
   "outputs": [],
   "source": []
  },
  {
   "cell_type": "code",
   "execution_count": null,
   "metadata": {
    "collapsed": true
   },
   "outputs": [],
   "source": []
  }
 ],
 "metadata": {
  "kernelspec": {
   "display_name": "Python 3",
   "language": "python",
   "name": "python3"
  },
  "language_info": {
   "codemirror_mode": {
    "name": "ipython",
    "version": 3
   },
   "file_extension": ".py",
   "mimetype": "text/x-python",
   "name": "python",
   "nbconvert_exporter": "python",
   "pygments_lexer": "ipython3",
   "version": "3.4.3"
  }
 },
 "nbformat": 4,
 "nbformat_minor": 0
}
